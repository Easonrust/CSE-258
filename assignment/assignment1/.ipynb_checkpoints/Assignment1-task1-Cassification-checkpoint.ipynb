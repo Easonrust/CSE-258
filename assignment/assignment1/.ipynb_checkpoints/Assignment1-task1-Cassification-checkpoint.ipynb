{
 "cells": [
  {
   "cell_type": "code",
   "execution_count": 30,
   "metadata": {},
   "outputs": [],
   "source": [
    "import gzip\n",
    "import random\n",
    "import csv\n",
    "from collections import defaultdict\n",
    "from sklearn import linear_model"
   ]
  },
  {
   "cell_type": "code",
   "execution_count": 31,
   "metadata": {},
   "outputs": [],
   "source": [
    "path=\"trainInteractions.csv.gz\""
   ]
  },
  {
   "cell_type": "code",
   "execution_count": 32,
   "metadata": {},
   "outputs": [],
   "source": [
    "def readCSV(path):\n",
    "    f = gzip.open(path, 'rt')\n",
    "    c = csv.reader(f)\n",
    "    header = next(c)\n",
    "    for l in c:\n",
    "        d = dict(zip(header,l))\n",
    "        yield d['user_id'],d['recipe_id'],d"
   ]
  },
  {
   "cell_type": "code",
   "execution_count": 33,
   "metadata": {},
   "outputs": [],
   "source": [
    "def Jaccard(s1, s2):\n",
    "    numer = len(s1.intersection(s2))\n",
    "    denom = len(s1.union(s2))\n",
    "    if denom == 0:\n",
    "        return 0\n",
    "    return numer / denom"
   ]
  },
  {
   "cell_type": "code",
   "execution_count": 34,
   "metadata": {},
   "outputs": [],
   "source": [
    "dataset = list(readCSV(path))"
   ]
  },
  {
   "cell_type": "code",
   "execution_count": 35,
   "metadata": {},
   "outputs": [
    {
     "data": {
      "text/plain": [
       "('88348277',\n",
       " '03969194',\n",
       " {'user_id': '88348277',\n",
       "  'recipe_id': '03969194',\n",
       "  'date': '2004-12-23',\n",
       "  'rating': '5'})"
      ]
     },
     "execution_count": 35,
     "metadata": {},
     "output_type": "execute_result"
    }
   ],
   "source": [
    "dataset[0]"
   ]
  },
  {
   "cell_type": "code",
   "execution_count": 36,
   "metadata": {},
   "outputs": [],
   "source": [
    "itemsPerUser = defaultdict(set)\n",
    "usersPerItem=defaultdict(set)\n",
    "itemSet=set([d[1] for d in dataset])"
   ]
  },
  {
   "cell_type": "code",
   "execution_count": 37,
   "metadata": {},
   "outputs": [],
   "source": [
    "for d in dataset:\n",
    "    user,item = d[0], d[1]\n",
    "    itemsPerUser[user].add(item)\n",
    "    usersPerItem[item].add(user)"
   ]
  },
  {
   "cell_type": "markdown",
   "metadata": {},
   "source": [
    "1. Popularity and Jaccard similarity"
   ]
  },
  {
   "cell_type": "code",
   "execution_count": 38,
   "metadata": {},
   "outputs": [],
   "source": [
    "def build_validate_set1(dataset):\n",
    "    validate_set=[]\n",
    "    random.seed(50)\n",
    "    for d in dataset:\n",
    "        positive_entry=[d[0],d[1],1]\n",
    "        negative_entry_item_set=itemSet.difference(itemsPerUser[d[0]])\n",
    "        random_item=random.choice(list(negative_entry_item_set))\n",
    "        negative_entry=[d[0],random_item,0]\n",
    "        validate_set.append(positive_entry)\n",
    "        validate_set.append(negative_entry)\n",
    "    return validate_set"
   ]
  },
  {
   "cell_type": "code",
   "execution_count": 39,
   "metadata": {},
   "outputs": [],
   "source": [
    "def build_train_set1(dataset):\n",
    "    train_set=[]\n",
    "    for d in dataset:\n",
    "        positive_entry=[d[0],d[1]]\n",
    "        train_set.append(positive_entry)\n",
    "    return train_set"
   ]
  },
  {
   "cell_type": "code",
   "execution_count": null,
   "metadata": {},
   "outputs": [],
   "source": [
    "train_set=build_train_set(dataset[:400000])\n",
    "validate_set=build_validate_set(dataset[400000:500000])"
   ]
  },
  {
   "cell_type": "code",
   "execution_count": null,
   "metadata": {},
   "outputs": [],
   "source": [
    "def jaccardPopularityModel(train_set, test_set, jt=0.01, pt=0.6):\n",
    "    itemsPerUser = defaultdict(set)\n",
    "    usersPerItem=defaultdict(set)\n",
    "    for d in train_set:\n",
    "        user,item = d[0], d[1]\n",
    "        itemsPerUser[user].add(item)\n",
    "        usersPerItem[item].add(user)\n",
    "    \n",
    "    itemSet=set([d[1] for d in train_set])\n",
    "    userSet=set([d[0] for d in train_set])\n",
    "    \n",
    "    # calculate average number of recipes made in the train_set\n",
    "    averageNum=len(train_set)/len(userSet)\n",
    "\n",
    "    # calculate most popular set in train_set\n",
    "    recipeCount = defaultdict(int)\n",
    "    totalCooked = 0\n",
    "    for d in train_set:\n",
    "        recipeCount[d[1]] += 1\n",
    "        totalCooked += 1\n",
    "\n",
    "    mostPopular = [(recipeCount[x], x) for x in recipeCount]\n",
    "    mostPopular.sort()\n",
    "    mostPopular.reverse()\n",
    "\n",
    "    return1 = set()\n",
    "    count = 0\n",
    "    for ic, i in mostPopular:\n",
    "        count += ic\n",
    "        return1.add(i)\n",
    "        if count > totalCooked*pt: break\n",
    "\n",
    "    # evalute on test_set\n",
    "    total_size=len(test_set)\n",
    "    correct_size=0\n",
    "    for i in range(total_size):\n",
    "        sample=test_set[i]\n",
    "        item=sample[1]\n",
    "        user=sample[0]\n",
    "        predict=0\n",
    "        if item in return1:\n",
    "            predict=1\n",
    "#         # if we have not met this user before, just recommend the most popular\n",
    "#         if user not in userSet:\n",
    "#             if item in return1:\n",
    "#                 predict=1\n",
    "#         else:\n",
    "#             # if we have not met this recipe before, if the user made many recipes before, then recommend\n",
    "#             if item not in itemSet:\n",
    "#                 if len(itemsPerUser[user])>averageNum:\n",
    "#                     predict=1\n",
    "#             else:     \n",
    "#                 maxSim=0\n",
    "#                 for d in itemsPerUser[user]:\n",
    "#                     sim=Jaccard(usersPerItem[d],usersPerItem[item])\n",
    "#                     maxSim=max(maxSim,sim)\n",
    "#                 if maxSim>jt and item in return1:\n",
    "#                     predict=1\n",
    "                \n",
    "        if predict==sample[2]:\n",
    "            correct_size+=1\n",
    "    accuracy=correct_size/total_size\n",
    "    print([accuracy,jt,pt])"
   ]
  },
  {
   "cell_type": "code",
   "execution_count": null,
   "metadata": {},
   "outputs": [],
   "source": [
    "jaccardPopularityModel(train_set,validate_set,0.01,0.6)"
   ]
  },
  {
   "cell_type": "code",
   "execution_count": null,
   "metadata": {},
   "outputs": [],
   "source": [
    "for i in range(50):\n",
    "    jaccardPopularityModel(train_set,validate_set,0.01,0.59+i*0.001)"
   ]
  },
  {
   "cell_type": "markdown",
   "metadata": {},
   "source": [
    "Upload to kaggle:"
   ]
  },
  {
   "cell_type": "code",
   "execution_count": null,
   "metadata": {},
   "outputs": [],
   "source": [
    "def jaccardPopularityModel(train_set, jt=0.01, pt=0.6):\n",
    "    print(\"predicting....\")\n",
    "    itemsPerUser = defaultdict(set)\n",
    "    usersPerItem=defaultdict(set)\n",
    "    for d in train_set:\n",
    "        user,item = d[0], d[1]\n",
    "        itemsPerUser[user].add(item)\n",
    "        usersPerItem[item].add(user)\n",
    "    \n",
    "    itemSet=set([d[1] for d in train_set])\n",
    "    userSet=set([d[0] for d in train_set])\n",
    "    \n",
    "    # calculate average number of recipes made in the train_set\n",
    "    averageNum=len(train_set)/len(userSet)\n",
    "\n",
    "    # calculate most popular set in train_set\n",
    "    recipeCount = defaultdict(int)\n",
    "    totalCooked = 0\n",
    "    for d in train_set:\n",
    "        recipeCount[d[1]] += 1\n",
    "        totalCooked += 1\n",
    "\n",
    "    mostPopular = [(recipeCount[x], x) for x in recipeCount]\n",
    "    mostPopular.sort()\n",
    "    mostPopular.reverse()\n",
    "\n",
    "    return1 = set()\n",
    "    count = 0\n",
    "    for ic, i in mostPopular:\n",
    "        count += ic\n",
    "        return1.add(i)\n",
    "        if count > totalCooked*pt: break\n",
    "\n",
    "    predictions = open(\"predictions_Made.txt\", 'w')\n",
    "    for l in open(\"stub_Made.txt\"):\n",
    "        if l.startswith(\"user_id\"):\n",
    "            predictions.write(l)\n",
    "            continue\n",
    "        user,item = l.strip().split('-')\n",
    "        predict=0\n",
    "        \n",
    "        # if we have not met this user before, just recommend the most popular\n",
    "        if user not in userSet:\n",
    "            if item in return1:\n",
    "                predict=1\n",
    "        else:\n",
    "            # if we have not met this recipe before, if the user made many recipes before, then recommend\n",
    "            if item not in itemSet:\n",
    "                if len(itemsPerUser[user])>averageNum:\n",
    "                    predict=1\n",
    "            else:\n",
    "                if item in return1:\n",
    "                    predict=1\n",
    "                else:\n",
    "                    maxSim=0\n",
    "                    for d in itemsPerUser[user]:\n",
    "                        sim=Jaccard(usersPerItem[d],usersPerItem[item])\n",
    "                        maxSim=max(maxSim,sim)\n",
    "                    if maxSim>jt:\n",
    "                        predict=1\n",
    "        if predict==1:\n",
    "            predictions.write(user + '-' + item + \",1\\n\")\n",
    "        else:\n",
    "            predictions.write(user + '-' + item + \",0\\n\")\n",
    "    predictions.close()\n",
    "    print(\"predicting finished!\")"
   ]
  },
  {
   "cell_type": "code",
   "execution_count": null,
   "metadata": {},
   "outputs": [],
   "source": [
    "train_set=build_train_set(dataset)"
   ]
  },
  {
   "cell_type": "code",
   "execution_count": null,
   "metadata": {},
   "outputs": [],
   "source": [
    "jaccardPopularityModel(train_set,0.5,0.6)"
   ]
  },
  {
   "cell_type": "markdown",
   "metadata": {},
   "source": [
    "2. Classification"
   ]
  },
  {
   "cell_type": "code",
   "execution_count": 8,
   "metadata": {},
   "outputs": [],
   "source": [
    "import sklearn\n",
    "from sklearn import linear_model"
   ]
  },
  {
   "cell_type": "code",
   "execution_count": 9,
   "metadata": {},
   "outputs": [],
   "source": [
    "def build_train_set(dataset):\n",
    "    itemsPerUser = defaultdict(set)\n",
    "    usersPerItem=defaultdict(set)\n",
    "    for d in dataset:\n",
    "        user,item = d[0], d[1]\n",
    "        itemsPerUser[user].add(item)\n",
    "        usersPerItem[item].add(user)\n",
    "    train_set=[]\n",
    "    random.seed(50)\n",
    "    for d in dataset:\n",
    "        positive_entry=[d[0],d[1],1]\n",
    "        negative_entry_item_set=itemSet.difference(itemsPerUser[d[0]])\n",
    "        random_item=random.choice(list(negative_entry_item_set))\n",
    "        negative_entry=[d[0],random_item,0]\n",
    "        train_set.append(positive_entry)\n",
    "        train_set.append(negative_entry)\n",
    "    return train_set"
   ]
  },
  {
   "cell_type": "code",
   "execution_count": 10,
   "metadata": {},
   "outputs": [],
   "source": [
    "train_set=build_train_set(dataset)"
   ]
  },
  {
   "cell_type": "code",
   "execution_count": 11,
   "metadata": {},
   "outputs": [],
   "source": [
    "itemsPerUser = defaultdict(set)\n",
    "usersPerItem=defaultdict(set)\n",
    "for d in train_set:\n",
    "    user,item = d[0], d[1]\n",
    "    itemsPerUser[user].add(item)\n",
    "    usersPerItem[item].add(user)\n",
    "\n",
    "itemSet=set([d[1] for d in train_set])\n",
    "userSet=set([d[0] for d in train_set])"
   ]
  },
  {
   "cell_type": "code",
   "execution_count": 12,
   "metadata": {},
   "outputs": [],
   "source": [
    "# calculate most popular set in train_set\n",
    "recipeCount = defaultdict(int)\n",
    "totalCooked = 0\n",
    "for d in train_set:\n",
    "    recipeCount[d[1]] += 1\n",
    "    totalCooked += 1\n",
    "\n",
    "mostPopular = [(recipeCount[x], x) for x in recipeCount]\n",
    "mostPopular.sort()\n",
    "mostPopular.reverse()\n",
    "\n",
    "return1 = set()\n",
    "count = 0\n",
    "for ic, i in mostPopular:\n",
    "    count += ic\n",
    "    return1.add(i)\n",
    "    if count > totalCooked*0.6: break"
   ]
  },
  {
   "cell_type": "code",
   "execution_count": 27,
   "metadata": {},
   "outputs": [],
   "source": [
    "def feature(user, item):\n",
    "    feat = [1]\n",
    "    if item in return1:\n",
    "        feat.append(1)\n",
    "    else:\n",
    "        feat.append(0)    \n",
    "    maxSim=0\n",
    "    for d in itemsPerUser[user]:\n",
    "        sim=Jaccard(usersPerItem[d],usersPerItem[item])\n",
    "        maxSim=max(maxSim,sim)\n",
    "    feat.append(maxSim-0.01)\n",
    "    return feat"
   ]
  },
  {
   "cell_type": "code",
   "execution_count": 28,
   "metadata": {},
   "outputs": [],
   "source": [
    "X=[]\n",
    "y=[]"
   ]
  },
  {
   "cell_type": "code",
   "execution_count": 29,
   "metadata": {},
   "outputs": [
    {
     "ename": "KeyboardInterrupt",
     "evalue": "",
     "output_type": "error",
     "traceback": [
      "\u001b[0;31m---------------------------------------------------------------------------\u001b[0m",
      "\u001b[0;31mKeyboardInterrupt\u001b[0m                         Traceback (most recent call last)",
      "\u001b[0;32m<ipython-input-29-27105a239485>\u001b[0m in \u001b[0;36m<module>\u001b[0;34m\u001b[0m\n\u001b[1;32m      2\u001b[0m     \u001b[0muser\u001b[0m\u001b[0;34m=\u001b[0m\u001b[0md\u001b[0m\u001b[0;34m[\u001b[0m\u001b[0;36m0\u001b[0m\u001b[0;34m]\u001b[0m\u001b[0;34m\u001b[0m\u001b[0;34m\u001b[0m\u001b[0m\n\u001b[1;32m      3\u001b[0m     \u001b[0mitem\u001b[0m\u001b[0;34m=\u001b[0m\u001b[0md\u001b[0m\u001b[0;34m[\u001b[0m\u001b[0;36m1\u001b[0m\u001b[0;34m]\u001b[0m\u001b[0;34m\u001b[0m\u001b[0;34m\u001b[0m\u001b[0m\n\u001b[0;32m----> 4\u001b[0;31m     \u001b[0mX\u001b[0m\u001b[0;34m.\u001b[0m\u001b[0mappend\u001b[0m\u001b[0;34m(\u001b[0m\u001b[0mfeature\u001b[0m\u001b[0;34m(\u001b[0m\u001b[0muser\u001b[0m\u001b[0;34m,\u001b[0m\u001b[0mitem\u001b[0m\u001b[0;34m)\u001b[0m\u001b[0;34m)\u001b[0m\u001b[0;34m\u001b[0m\u001b[0;34m\u001b[0m\u001b[0m\n\u001b[0m\u001b[1;32m      5\u001b[0m     \u001b[0my\u001b[0m\u001b[0;34m.\u001b[0m\u001b[0mappend\u001b[0m\u001b[0;34m(\u001b[0m\u001b[0md\u001b[0m\u001b[0;34m[\u001b[0m\u001b[0;36m2\u001b[0m\u001b[0;34m]\u001b[0m\u001b[0;34m==\u001b[0m\u001b[0;36m1\u001b[0m\u001b[0;34m)\u001b[0m\u001b[0;34m\u001b[0m\u001b[0;34m\u001b[0m\u001b[0m\n",
      "\u001b[0;32m<ipython-input-27-fffce7904ce3>\u001b[0m in \u001b[0;36mfeature\u001b[0;34m(user, item)\u001b[0m\n\u001b[1;32m      7\u001b[0m     \u001b[0mmaxSim\u001b[0m\u001b[0;34m=\u001b[0m\u001b[0;36m0\u001b[0m\u001b[0;34m\u001b[0m\u001b[0;34m\u001b[0m\u001b[0m\n\u001b[1;32m      8\u001b[0m     \u001b[0;32mfor\u001b[0m \u001b[0md\u001b[0m \u001b[0;32min\u001b[0m \u001b[0mitemsPerUser\u001b[0m\u001b[0;34m[\u001b[0m\u001b[0muser\u001b[0m\u001b[0;34m]\u001b[0m\u001b[0;34m:\u001b[0m\u001b[0;34m\u001b[0m\u001b[0;34m\u001b[0m\u001b[0m\n\u001b[0;32m----> 9\u001b[0;31m         \u001b[0msim\u001b[0m\u001b[0;34m=\u001b[0m\u001b[0mJaccard\u001b[0m\u001b[0;34m(\u001b[0m\u001b[0musersPerItem\u001b[0m\u001b[0;34m[\u001b[0m\u001b[0md\u001b[0m\u001b[0;34m]\u001b[0m\u001b[0;34m,\u001b[0m\u001b[0musersPerItem\u001b[0m\u001b[0;34m[\u001b[0m\u001b[0mitem\u001b[0m\u001b[0;34m]\u001b[0m\u001b[0;34m)\u001b[0m\u001b[0;34m\u001b[0m\u001b[0;34m\u001b[0m\u001b[0m\n\u001b[0m\u001b[1;32m     10\u001b[0m         \u001b[0mmaxSim\u001b[0m\u001b[0;34m=\u001b[0m\u001b[0mmax\u001b[0m\u001b[0;34m(\u001b[0m\u001b[0mmaxSim\u001b[0m\u001b[0;34m,\u001b[0m\u001b[0msim\u001b[0m\u001b[0;34m)\u001b[0m\u001b[0;34m\u001b[0m\u001b[0;34m\u001b[0m\u001b[0m\n\u001b[1;32m     11\u001b[0m     \u001b[0mfeat\u001b[0m\u001b[0;34m.\u001b[0m\u001b[0mappend\u001b[0m\u001b[0;34m(\u001b[0m\u001b[0mmaxSim\u001b[0m\u001b[0;34m-\u001b[0m\u001b[0;36m0.01\u001b[0m\u001b[0;34m)\u001b[0m\u001b[0;34m\u001b[0m\u001b[0;34m\u001b[0m\u001b[0m\n",
      "\u001b[0;32m<ipython-input-16-84de7f90d817>\u001b[0m in \u001b[0;36mJaccard\u001b[0;34m(s1, s2)\u001b[0m\n\u001b[1;32m      1\u001b[0m \u001b[0;32mdef\u001b[0m \u001b[0mJaccard\u001b[0m\u001b[0;34m(\u001b[0m\u001b[0ms1\u001b[0m\u001b[0;34m,\u001b[0m \u001b[0ms2\u001b[0m\u001b[0;34m)\u001b[0m\u001b[0;34m:\u001b[0m\u001b[0;34m\u001b[0m\u001b[0;34m\u001b[0m\u001b[0m\n\u001b[1;32m      2\u001b[0m     \u001b[0mnumer\u001b[0m \u001b[0;34m=\u001b[0m \u001b[0mlen\u001b[0m\u001b[0;34m(\u001b[0m\u001b[0ms1\u001b[0m\u001b[0;34m.\u001b[0m\u001b[0mintersection\u001b[0m\u001b[0;34m(\u001b[0m\u001b[0ms2\u001b[0m\u001b[0;34m)\u001b[0m\u001b[0;34m)\u001b[0m\u001b[0;34m\u001b[0m\u001b[0;34m\u001b[0m\u001b[0m\n\u001b[0;32m----> 3\u001b[0;31m     \u001b[0mdenom\u001b[0m \u001b[0;34m=\u001b[0m \u001b[0mlen\u001b[0m\u001b[0;34m(\u001b[0m\u001b[0ms1\u001b[0m\u001b[0;34m.\u001b[0m\u001b[0munion\u001b[0m\u001b[0;34m(\u001b[0m\u001b[0ms2\u001b[0m\u001b[0;34m)\u001b[0m\u001b[0;34m)\u001b[0m\u001b[0;34m\u001b[0m\u001b[0;34m\u001b[0m\u001b[0m\n\u001b[0m\u001b[1;32m      4\u001b[0m     \u001b[0;32mif\u001b[0m \u001b[0mdenom\u001b[0m \u001b[0;34m==\u001b[0m \u001b[0;36m0\u001b[0m\u001b[0;34m:\u001b[0m\u001b[0;34m\u001b[0m\u001b[0;34m\u001b[0m\u001b[0m\n\u001b[1;32m      5\u001b[0m         \u001b[0;32mreturn\u001b[0m \u001b[0;36m0\u001b[0m\u001b[0;34m\u001b[0m\u001b[0;34m\u001b[0m\u001b[0m\n",
      "\u001b[0;31mKeyboardInterrupt\u001b[0m: "
     ]
    }
   ],
   "source": [
    "for d in train_set:\n",
    "    user=d[0]\n",
    "    item=d[1]\n",
    "    X.append(feature(user,item))\n",
    "    y.append(d[2]==1)"
   ]
  },
  {
   "cell_type": "code",
   "execution_count": null,
   "metadata": {},
   "outputs": [],
   "source": [
    "model = sklearn.linear_model.LogisticRegression()\n",
    "model.fit(X, y)"
   ]
  },
  {
   "cell_type": "code",
   "execution_count": null,
   "metadata": {},
   "outputs": [],
   "source": [
    "X_test=[]"
   ]
  },
  {
   "cell_type": "code",
   "execution_count": null,
   "metadata": {},
   "outputs": [],
   "source": [
    "predictions = open(\"predictions_Made.txt\", 'w')\n",
    "for l in open(\"stub_Made.txt\"):\n",
    "    if l.startswith(\"user_id\"):\n",
    "        predictions.write(l)\n",
    "        continue\n",
    "    user,item = l.strip().split('-')\n",
    "    X_test.append(feature(user,item))\n",
    "y_predict=model.predict(X_test)\n",
    "\n",
    "i=0\n",
    "for l in open(\"stub_Made.txt\"):\n",
    "    if l.startswith(\"user_id\"):\n",
    "        continue\n",
    "    user,item = l.strip().split('-')\n",
    "    predict=y_predict[i]\n",
    "    if predict==True:\n",
    "        predictions.write(user + '-' + item + \",1\\n\")\n",
    "    else:\n",
    "        predictions.write(user + '-' + item + \",0\\n\")\n",
    "    i+=1\n",
    "predictions.close()\n",
    "print(\"predicting finished!\")"
   ]
  },
  {
   "cell_type": "code",
   "execution_count": null,
   "metadata": {},
   "outputs": [],
   "source": []
  }
 ],
 "metadata": {
  "kernelspec": {
   "display_name": "Python 3.7.6 64-bit",
   "language": "python",
   "name": "python37664bitc282c26bf4d14ab391e9a3806fefddf8"
  },
  "language_info": {
   "codemirror_mode": {
    "name": "ipython",
    "version": 3
   },
   "file_extension": ".py",
   "mimetype": "text/x-python",
   "name": "python",
   "nbconvert_exporter": "python",
   "pygments_lexer": "ipython3",
   "version": "3.7.6"
  }
 },
 "nbformat": 4,
 "nbformat_minor": 4
}
