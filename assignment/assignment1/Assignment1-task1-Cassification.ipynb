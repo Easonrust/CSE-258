{
 "cells": [
  {
   "cell_type": "code",
   "execution_count": 1,
   "metadata": {},
   "outputs": [],
   "source": [
    "import gzip\n",
    "import random\n",
    "import csv\n",
    "from collections import defaultdict\n",
    "from sklearn import linear_model"
   ]
  },
  {
   "cell_type": "code",
   "execution_count": 2,
   "metadata": {},
   "outputs": [],
   "source": [
    "path=\"trainInteractions.csv.gz\""
   ]
  },
  {
   "cell_type": "code",
   "execution_count": 3,
   "metadata": {},
   "outputs": [],
   "source": [
    "def readCSV(path):\n",
    "    f = gzip.open(path, 'rt')\n",
    "    c = csv.reader(f)\n",
    "    header = next(c)\n",
    "    for l in c:\n",
    "        d = dict(zip(header,l))\n",
    "        yield d['user_id'],d['recipe_id'],d"
   ]
  },
  {
   "cell_type": "code",
   "execution_count": 4,
   "metadata": {},
   "outputs": [],
   "source": [
    "def Jaccard(s1, s2):\n",
    "    numer = len(s1.intersection(s2))\n",
    "    denom = len(s1.union(s2))\n",
    "    if denom == 0:\n",
    "        return 0\n",
    "    return numer / denom"
   ]
  },
  {
   "cell_type": "code",
   "execution_count": 5,
   "metadata": {},
   "outputs": [],
   "source": [
    "dataset = list(readCSV(path))"
   ]
  },
  {
   "cell_type": "code",
   "execution_count": 6,
   "metadata": {},
   "outputs": [
    {
     "data": {
      "text/plain": [
       "('88348277',\n",
       " '03969194',\n",
       " {'user_id': '88348277',\n",
       "  'recipe_id': '03969194',\n",
       "  'date': '2004-12-23',\n",
       "  'rating': '5'})"
      ]
     },
     "execution_count": 6,
     "metadata": {},
     "output_type": "execute_result"
    }
   ],
   "source": [
    "dataset[0]"
   ]
  },
  {
   "cell_type": "markdown",
   "metadata": {},
   "source": [
    "2. Classification"
   ]
  },
  {
   "cell_type": "code",
   "execution_count": 7,
   "metadata": {},
   "outputs": [],
   "source": [
    "import sklearn\n",
    "from sklearn import linear_model"
   ]
  },
  {
   "cell_type": "code",
   "execution_count": 8,
   "metadata": {},
   "outputs": [],
   "source": [
    "def build_train_set(dataset):\n",
    "    itemsPerUser = defaultdict(set)\n",
    "    usersPerItem=defaultdict(set)\n",
    "    itemSet=set([d[1] for d in dataset])\n",
    "    for d in dataset:\n",
    "        user,item = d[0], d[1]\n",
    "        itemsPerUser[user].add(item)\n",
    "        usersPerItem[item].add(user)\n",
    "    train_set=[]\n",
    "    random.seed(50)\n",
    "    for d in dataset:\n",
    "        positive_entry=[d[0],d[1],1]\n",
    "        negative_entry_item_set=itemSet.difference(itemsPerUser[d[0]])\n",
    "        for item in list(negative_entry_item_set):\n",
    "            negative_entry=[d[0],item,0]\n",
    "            train_set.append(negative_entry)\n",
    "        train_set.append(positive_entry)\n",
    "    return train_set"
   ]
  },
  {
   "cell_type": "code",
   "execution_count": null,
   "metadata": {},
   "outputs": [],
   "source": [
    "train_set=build_train_set(dataset)"
   ]
  },
  {
   "cell_type": "code",
   "execution_count": null,
   "metadata": {},
   "outputs": [],
   "source": [
    "itemsPerUser = defaultdict(set)\n",
    "usersPerItem=defaultdict(set)\n",
    "for d in train_set:\n",
    "    user,item = d[0], d[1]\n",
    "    itemsPerUser[user].add(item)\n",
    "    usersPerItem[item].add(user)\n",
    "\n",
    "itemSet=set([d[1] for d in train_set])\n",
    "userSet=set([d[0] for d in train_set])"
   ]
  },
  {
   "cell_type": "code",
   "execution_count": null,
   "metadata": {},
   "outputs": [],
   "source": [
    "# calculate most popular set in train_set\n",
    "recipeCount = defaultdict(int)\n",
    "totalCooked = 0\n",
    "for d in train_set:\n",
    "    recipeCount[d[1]] += 1\n",
    "    totalCooked += 1\n",
    "\n",
    "mostPopular = [(recipeCount[x], x) for x in recipeCount]\n",
    "mostPopular.sort()\n",
    "mostPopular.reverse()\n",
    "\n",
    "return1 = set()\n",
    "count = 0\n",
    "for ic, i in mostPopular:\n",
    "    count += ic\n",
    "    return1.add(i)\n",
    "    if count > totalCooked*0.6: break"
   ]
  },
  {
   "cell_type": "code",
   "execution_count": null,
   "metadata": {},
   "outputs": [],
   "source": [
    "def feature(user, item):\n",
    "    feat = [1]\n",
    "    if item in return1:\n",
    "        feat.append(1)\n",
    "    else:\n",
    "        feat.append(0)    \n",
    "    maxSim=0\n",
    "    for d in itemsPerUser[user]:\n",
    "        sim=Jaccard(usersPerItem[d],usersPerItem[item])\n",
    "        maxSim=max(maxSim,sim)\n",
    "    feat.append(maxSim-0.01)\n",
    "    return feat"
   ]
  },
  {
   "cell_type": "code",
   "execution_count": null,
   "metadata": {},
   "outputs": [],
   "source": [
    "X=[]\n",
    "y=[]"
   ]
  },
  {
   "cell_type": "code",
   "execution_count": null,
   "metadata": {},
   "outputs": [],
   "source": [
    "for d in train_set:\n",
    "    user=d[0]\n",
    "    item=d[1]\n",
    "    X.append(feature(user,item))\n",
    "    y.append(d[2]==1)"
   ]
  },
  {
   "cell_type": "code",
   "execution_count": null,
   "metadata": {},
   "outputs": [],
   "source": [
    "model = sklearn.linear_model.LogisticRegression()\n",
    "model.fit(X, y)"
   ]
  },
  {
   "cell_type": "code",
   "execution_count": null,
   "metadata": {},
   "outputs": [],
   "source": [
    "X_test=[]"
   ]
  },
  {
   "cell_type": "code",
   "execution_count": null,
   "metadata": {},
   "outputs": [],
   "source": [
    "predictions = open(\"predictions_Made.txt\", 'w')\n",
    "for l in open(\"stub_Made.txt\"):\n",
    "    if l.startswith(\"user_id\"):\n",
    "        predictions.write(l)\n",
    "        continue\n",
    "    user,item = l.strip().split('-')\n",
    "    X_test.append(feature(user,item))\n",
    "y_predict=model.predict(X_test)\n",
    "\n",
    "i=0\n",
    "for l in open(\"stub_Made.txt\"):\n",
    "    if l.startswith(\"user_id\"):\n",
    "        continue\n",
    "    user,item = l.strip().split('-')\n",
    "    predict=y_predict[i]\n",
    "    if predict==True:\n",
    "        predictions.write(user + '-' + item + \",1\\n\")\n",
    "    else:\n",
    "        predictions.write(user + '-' + item + \",0\\n\")\n",
    "    i+=1\n",
    "predictions.close()\n",
    "print(\"predicting finished!\")"
   ]
  },
  {
   "cell_type": "code",
   "execution_count": null,
   "metadata": {},
   "outputs": [],
   "source": []
  }
 ],
 "metadata": {
  "kernelspec": {
   "display_name": "Python 3.7.6 64-bit",
   "language": "python",
   "name": "python37664bitc282c26bf4d14ab391e9a3806fefddf8"
  },
  "language_info": {
   "codemirror_mode": {
    "name": "ipython",
    "version": 3
   },
   "file_extension": ".py",
   "mimetype": "text/x-python",
   "name": "python",
   "nbconvert_exporter": "python",
   "pygments_lexer": "ipython3",
   "version": "3.7.6"
  }
 },
 "nbformat": 4,
 "nbformat_minor": 4
}
