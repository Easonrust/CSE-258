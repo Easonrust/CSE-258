{
 "cells": [
  {
   "cell_type": "code",
   "execution_count": 1,
   "metadata": {},
   "outputs": [],
   "source": [
    "import gzip\n",
    "import csv\n",
    "from collections import defaultdict\n",
    "import scipy\n",
    "import scipy.optimize\n",
    "import numpy"
   ]
  },
  {
   "cell_type": "code",
   "execution_count": 2,
   "metadata": {},
   "outputs": [],
   "source": [
    "path=\"trainInteractions.csv.gz\""
   ]
  },
  {
   "cell_type": "code",
   "execution_count": 3,
   "metadata": {},
   "outputs": [],
   "source": [
    "def readCSV(path):\n",
    "    f = gzip.open(path, 'rt')\n",
    "    c = csv.reader(f)\n",
    "    header = next(c)\n",
    "    for l in c:\n",
    "        d = dict(zip(header,l))\n",
    "        yield d"
   ]
  },
  {
   "cell_type": "code",
   "execution_count": 4,
   "metadata": {},
   "outputs": [],
   "source": [
    "dataset = list(readCSV(path))"
   ]
  },
  {
   "cell_type": "code",
   "execution_count": 5,
   "metadata": {},
   "outputs": [],
   "source": [
    "train_set=dataset\n",
    "validate_set=dataset[400000:500000]"
   ]
  },
  {
   "cell_type": "code",
   "execution_count": 6,
   "metadata": {},
   "outputs": [],
   "source": [
    "labels = [int(d['rating']) for d in train_set]"
   ]
  },
  {
   "cell_type": "code",
   "execution_count": 7,
   "metadata": {},
   "outputs": [],
   "source": [
    "validate_truth=[int(d['rating']) for d in validate_set]"
   ]
  },
  {
   "cell_type": "code",
   "execution_count": 8,
   "metadata": {},
   "outputs": [],
   "source": [
    "reviewsPerUser = defaultdict(list)\n",
    "reviewsPerItem = defaultdict(list)"
   ]
  },
  {
   "cell_type": "code",
   "execution_count": 9,
   "metadata": {},
   "outputs": [],
   "source": [
    "for d in train_set:\n",
    "    user,item = d['user_id'], d['recipe_id']\n",
    "    reviewsPerUser[user].append(d)\n",
    "    reviewsPerItem[item].append(d)"
   ]
  },
  {
   "cell_type": "code",
   "execution_count": 10,
   "metadata": {},
   "outputs": [
    {
     "data": {
      "text/plain": [
       "4.580794"
      ]
     },
     "execution_count": 10,
     "metadata": {},
     "output_type": "execute_result"
    }
   ],
   "source": [
    "ratingMean = sum([int(d['rating']) for d in train_set]) / len(train_set)\n",
    "ratingMean"
   ]
  },
  {
   "cell_type": "code",
   "execution_count": 11,
   "metadata": {},
   "outputs": [],
   "source": [
    "global step\n",
    "step=1"
   ]
  },
  {
   "cell_type": "code",
   "execution_count": 12,
   "metadata": {},
   "outputs": [],
   "source": [
    "N = len(train_set)\n",
    "nUsers = len(reviewsPerUser)\n",
    "nItems = len(reviewsPerItem)\n",
    "users = list(reviewsPerUser.keys())\n",
    "items = list(reviewsPerItem.keys())"
   ]
  },
  {
   "cell_type": "code",
   "execution_count": 13,
   "metadata": {},
   "outputs": [],
   "source": [
    "alpha = ratingMean"
   ]
  },
  {
   "cell_type": "code",
   "execution_count": 14,
   "metadata": {},
   "outputs": [],
   "source": [
    "userBiases = defaultdict(float)\n",
    "itemBiases = defaultdict(float)"
   ]
  },
  {
   "cell_type": "code",
   "execution_count": 15,
   "metadata": {},
   "outputs": [],
   "source": [
    "def MSE(predictions, labels):\n",
    "    differences = [(x-y)**2 for x,y in zip(predictions,labels)]\n",
    "    return sum(differences) / len(differences)"
   ]
  },
  {
   "cell_type": "code",
   "execution_count": 16,
   "metadata": {},
   "outputs": [],
   "source": [
    "def prediction(user, item):\n",
    "    return alpha + userBiases[user] + itemBiases[item]"
   ]
  },
  {
   "cell_type": "code",
   "execution_count": 25,
   "metadata": {},
   "outputs": [],
   "source": [
    "def prediction_(user, item):\n",
    "    if user in userBiases and item in itemBiases:\n",
    "        pred=alpha + userBiases[user] + itemBiases[item]\n",
    "    elif user in userBiases:\n",
    "        pred=alpha + userBiases[user]\n",
    "    elif item in itemBiases:\n",
    "        pred=alpha + itemBiases[item]\n",
    "    else:\n",
    "        pred=alpha\n",
    "    if pred<0:\n",
    "        return 0\n",
    "    if pred>5.0:\n",
    "        return 5.0\n",
    "    if abs(round(pred)-pred)<0.001:\n",
    "        return round(pred)\n",
    "\n",
    "    return pred"
   ]
  },
  {
   "cell_type": "code",
   "execution_count": 18,
   "metadata": {},
   "outputs": [],
   "source": [
    "def unpack(theta):\n",
    "    global alpha\n",
    "    global userBiases\n",
    "    global itemBiases\n",
    "    alpha = theta[0]\n",
    "    userBiases = dict(zip(users, theta[1:nUsers+1]))\n",
    "    itemBiases = dict(zip(items, theta[1+nUsers:]))"
   ]
  },
  {
   "cell_type": "code",
   "execution_count": 19,
   "metadata": {},
   "outputs": [],
   "source": [
    "def cost(theta, labels, lamb):\n",
    "    unpack(theta)\n",
    "    global step\n",
    "    predictions = [prediction(d['user_id'], d['recipe_id']) for d in train_set]\n",
    "    cost = MSE(predictions, labels)\n",
    "    \n",
    "    validate_predictions=[prediction_(d['user_id'], d['recipe_id']) for d in validate_set]\n",
    "    validate_cost=MSE(validate_predictions,validate_truth)\n",
    "    print(\"step = \" + str(step))\n",
    "    print(\"MSE = \" + str(cost))\n",
    "    print(\"validate MSE = \" + str(validate_cost))\n",
    "    step+=1\n",
    "    for u in userBiases:\n",
    "        cost += lamb*userBiases[u]**2\n",
    "    for i in itemBiases:\n",
    "        cost += lamb*itemBiases[i]**2\n",
    "    return cost"
   ]
  },
  {
   "cell_type": "code",
   "execution_count": 20,
   "metadata": {},
   "outputs": [],
   "source": [
    "def derivative(theta, labels, lamb):\n",
    "    unpack(theta)\n",
    "    N = len(train_set)\n",
    "    dalpha = 0\n",
    "    dUserBiases = defaultdict(float)\n",
    "    dItemBiases = defaultdict(float)\n",
    "    for d in train_set:\n",
    "        u,i = d['user_id'], d['recipe_id']\n",
    "        pred = prediction(u, i)\n",
    "        diff = pred - int(d['rating'])\n",
    "        dalpha += 2/N*diff\n",
    "        dUserBiases[u] += 2/N*diff\n",
    "        dItemBiases[i] += 2/N*diff\n",
    "    for u in userBiases:\n",
    "        dUserBiases[u] += 2*lamb*userBiases[u]\n",
    "    for i in itemBiases:\n",
    "        dItemBiases[i] += 2*lamb*itemBiases[i]\n",
    "    dtheta = [dalpha] + [dUserBiases[u] for u in users] + [dItemBiases[i] for i in items]\n",
    "    return numpy.array(dtheta)"
   ]
  },
  {
   "cell_type": "code",
   "execution_count": 21,
   "metadata": {},
   "outputs": [],
   "source": [
    "lamb=0.000019"
   ]
  },
  {
   "cell_type": "code",
   "execution_count": 22,
   "metadata": {},
   "outputs": [
    {
     "name": "stdout",
     "output_type": "stream",
     "text": [
      "step = 1\n",
      "MSE = 0.9008923295603781\n",
      "validate MSE = 0.9095362076759884\n",
      "step = 2\n",
      "MSE = 0.8880111212499088\n",
      "validate MSE = 0.8968248602337343\n",
      "step = 3\n",
      "MSE = 1.0695097037303978\n",
      "validate MSE = 1.067812439623728\n",
      "step = 4\n",
      "MSE = 0.8854387311293824\n",
      "validate MSE = 0.89406940304688\n",
      "step = 5\n",
      "MSE = 0.8800505721084655\n",
      "validate MSE = 0.8845302174422947\n",
      "step = 6\n",
      "MSE = 0.8792285921615436\n",
      "validate MSE = 0.8838526749698199\n",
      "step = 7\n",
      "MSE = 0.8761141185768858\n",
      "validate MSE = 0.8812733329921802\n",
      "step = 8\n",
      "MSE = 0.8552499355379078\n",
      "validate MSE = 0.8621721543584585\n",
      "step = 9\n",
      "MSE = 0.8440696876899761\n",
      "validate MSE = 0.8521418269279626\n",
      "step = 10\n",
      "MSE = 0.828718888541999\n",
      "validate MSE = 0.8369502955278382\n",
      "step = 11\n",
      "MSE = 0.8180810485501481\n",
      "validate MSE = 0.8264655819880364\n",
      "step = 12\n",
      "MSE = 0.7984272534037569\n",
      "validate MSE = 0.8065312283022312\n",
      "step = 13\n",
      "MSE = 0.7847045166202754\n",
      "validate MSE = 0.7919317812332473\n",
      "step = 14\n",
      "MSE = 0.772308740003515\n",
      "validate MSE = 0.7798835053488007\n",
      "step = 15\n",
      "MSE = 0.7644540294786706\n",
      "validate MSE = 0.7726644331693808\n",
      "step = 16\n",
      "MSE = 0.7547162824007398\n",
      "validate MSE = 0.763164558880836\n",
      "step = 17\n",
      "MSE = 4.962466439815027\n",
      "validate MSE = 1.075409450264579\n",
      "step = 18\n",
      "MSE = 0.7546547934426735\n",
      "validate MSE = 0.7630351940018224\n",
      "step = 19\n",
      "MSE = 0.7506591122392066\n",
      "validate MSE = 0.7588714134648663\n",
      "step = 20\n",
      "MSE = 0.7432400354717404\n",
      "validate MSE = 0.7514198566596176\n",
      "step = 21\n",
      "MSE = 0.7393426125278897\n",
      "validate MSE = 0.7473480294123354\n",
      "step = 22\n",
      "MSE = 0.7344045948473581\n",
      "validate MSE = 0.7422107988729032\n",
      "step = 23\n",
      "MSE = 0.7289134843662408\n",
      "validate MSE = 0.7365113448086489\n",
      "step = 24\n",
      "MSE = 0.7205794246126448\n",
      "validate MSE = 0.7276798331543344\n",
      "step = 25\n",
      "MSE = 0.7133886881397511\n",
      "validate MSE = 0.7204666761138446\n",
      "step = 26\n",
      "MSE = 0.7114830533979803\n",
      "validate MSE = 0.7187370886992107\n",
      "step = 27\n",
      "MSE = 0.7073404800171351\n",
      "validate MSE = 0.7145796981022079\n",
      "step = 28\n",
      "MSE = 0.703239004628573\n",
      "validate MSE = 0.710328360045647\n",
      "step = 29\n",
      "MSE = 0.7258782446013945\n",
      "validate MSE = 0.7334974146658308\n",
      "step = 30\n",
      "MSE = 0.7031924616763264\n",
      "validate MSE = 0.7103625867632564\n",
      "step = 31\n",
      "MSE = 0.7027042639682797\n",
      "validate MSE = 0.7098690143431353\n",
      "step = 32\n",
      "MSE = 0.7014736682431121\n",
      "validate MSE = 0.7085091565946412\n",
      "step = 33\n",
      "MSE = 0.7008550945823325\n",
      "validate MSE = 0.7078100037607881\n",
      "step = 34\n",
      "MSE = 0.7004253132786455\n",
      "validate MSE = 0.707342352162126\n",
      "step = 35\n",
      "MSE = 0.6988536263540435\n",
      "validate MSE = 0.7056878629250896\n",
      "step = 36\n",
      "MSE = 0.6961523455516986\n",
      "validate MSE = 0.7027411243159509\n",
      "step = 37\n",
      "MSE = 0.6921049518458554\n",
      "validate MSE = 0.698420423767298\n",
      "step = 38\n",
      "MSE = 0.6920276919901481\n",
      "validate MSE = 0.6984817460198647\n",
      "step = 39\n",
      "MSE = 0.6920970583327597\n",
      "validate MSE = 0.6986986770218722\n",
      "step = 40\n",
      "MSE = 0.6912280820566092\n",
      "validate MSE = 0.6977938904051404\n",
      "step = 41\n",
      "MSE = 0.6899417639880978\n",
      "validate MSE = 0.6961385009733627\n",
      "step = 42\n",
      "MSE = 0.6906379859483832\n",
      "validate MSE = 0.6971474654845281\n",
      "step = 43\n",
      "MSE = 0.6880358514844805\n",
      "validate MSE = 0.694458915921573\n",
      "step = 44\n",
      "MSE = 0.6871693742714627\n",
      "validate MSE = 0.6935895808458044\n",
      "step = 45\n",
      "MSE = 0.6866129334093944\n",
      "validate MSE = 0.693061196793299\n",
      "step = 46\n",
      "MSE = 0.6866450837385891\n",
      "validate MSE = 0.6931014662636505\n",
      "step = 47\n",
      "MSE = 0.6868163106513423\n",
      "validate MSE = 0.6933321034229387\n",
      "step = 48\n",
      "MSE = 0.6861215644275365\n",
      "validate MSE = 0.69231095307457\n",
      "step = 49\n",
      "MSE = 0.6864561215011233\n",
      "validate MSE = 0.6929178028690121\n",
      "step = 50\n",
      "MSE = 0.6862733215165777\n",
      "validate MSE = 0.6927665044935626\n",
      "step = 51\n",
      "MSE = 0.6855778122259496\n",
      "validate MSE = 0.6920784807725399\n",
      "step = 52\n",
      "MSE = 0.6848347881622522\n",
      "validate MSE = 0.6913016557837317\n",
      "step = 53\n",
      "MSE = 0.6845567505909962\n",
      "validate MSE = 0.6909916927170424\n",
      "step = 54\n",
      "MSE = 0.6843750921440486\n",
      "validate MSE = 0.6907767034016238\n",
      "step = 55\n",
      "MSE = 0.6837938389743781\n",
      "validate MSE = 0.6899553315357527\n",
      "step = 56\n",
      "MSE = 0.6840779779447624\n",
      "validate MSE = 0.6904075692225259\n",
      "step = 57\n",
      "MSE = 0.6841728239506495\n",
      "validate MSE = 0.6905067587146697\n",
      "step = 58\n",
      "MSE = 0.6842447020631446\n",
      "validate MSE = 0.6905890094636931\n",
      "step = 59\n",
      "MSE = 0.683866412057436\n",
      "validate MSE = 0.6902129647459377\n",
      "step = 60\n",
      "MSE = 0.6834659368264316\n",
      "validate MSE = 0.6898325572086231\n",
      "step = 61\n",
      "MSE = 0.6854912766949212\n",
      "validate MSE = 0.691737708958906\n",
      "step = 62\n",
      "MSE = 0.6836559067482717\n",
      "validate MSE = 0.690025867999353\n",
      "step = 63\n",
      "MSE = 0.6832462063446588\n",
      "validate MSE = 0.6896244278634464\n",
      "step = 64\n",
      "MSE = 0.6831602212737996\n",
      "validate MSE = 0.6895695512909562\n",
      "step = 65\n",
      "MSE = 0.6831590964785051\n",
      "validate MSE = 0.6895686464567001\n",
      "step = 66\n",
      "MSE = 0.6831992307844614\n",
      "validate MSE = 0.6895924749565293\n",
      "step = 67\n",
      "MSE = 0.6831093075611442\n",
      "validate MSE = 0.6894384284558914\n",
      "step = 68\n",
      "MSE = 0.6831502274271801\n",
      "validate MSE = 0.689528876693523\n",
      "step = 69\n",
      "MSE = 0.6831395855192943\n",
      "validate MSE = 0.68948796626534\n",
      "step = 70\n",
      "MSE = 0.6832509292949311\n",
      "validate MSE = 0.6896112878407327\n",
      "step = 71\n",
      "MSE = 0.6832240168872622\n",
      "validate MSE = 0.68957741419198\n",
      "step = 72\n",
      "MSE = 0.683213717615792\n",
      "validate MSE = 0.6895748978997568\n",
      "step = 73\n",
      "MSE = 0.6832279535183395\n",
      "validate MSE = 0.6896024453824433\n",
      "step = 74\n",
      "MSE = 0.6832906417023212\n",
      "validate MSE = 0.689675724914198\n",
      "step = 75\n",
      "MSE = 0.6830817333615419\n",
      "validate MSE = 0.6895023781596661\n",
      "step = 76\n",
      "MSE = 0.6832175807290681\n",
      "validate MSE = 0.6896136431060065\n"
     ]
    },
    {
     "data": {
      "text/plain": [
       "(array([ 4.44997264,  0.03614097, -0.11206127, ...,  0.08054259,\n",
       "         0.03577149,  0.01341844]),\n",
       " 0.7395105887748105,\n",
       " {'grad': array([-2.48009399e-03, -5.10180106e-06, -2.89307173e-07, ...,\n",
       "         -1.66538154e-07, -9.28819300e-08, -1.20097512e-08]),\n",
       "  'task': b'STOP: TOTAL NO. of f AND g EVALUATIONS EXCEEDS LIMIT',\n",
       "  'funcalls': 76,\n",
       "  'nit': 65,\n",
       "  'warnflag': 1})"
      ]
     },
     "execution_count": 22,
     "metadata": {},
     "output_type": "execute_result"
    }
   ],
   "source": [
    "scipy.optimize.fmin_l_bfgs_b(cost, [alpha] + [0.0]*(nUsers+nItems),\n",
    "                             derivative, args = (labels, lamb), maxfun=75)"
   ]
  },
  {
   "cell_type": "code",
   "execution_count": 23,
   "metadata": {},
   "outputs": [
    {
     "data": {
      "text/plain": [
       "0.6896136431060065"
      ]
     },
     "execution_count": 23,
     "metadata": {},
     "output_type": "execute_result"
    }
   ],
   "source": [
    "predictions = []\n",
    "validate_truth=[int(d['rating']) for d in validate_set]\n",
    "for d in validate_set:\n",
    "    user=d['user_id']\n",
    "    item=d['recipe_id']\n",
    "    predictions.append(prediction_(user, item))\n",
    "#     if user in userBiases and item in itemBiases:\n",
    "#         predictions.append(prediction_(user, item))\n",
    "#     elif item in itemBiases:\n",
    "#         predictions.append(itemAverage[item])\n",
    "#     elif user in userBiases:\n",
    "#         predictions.append(userAverage[user])\n",
    "#     else:\n",
    "#         predictions.append(globalAverage)\n",
    "\n",
    "MSE(predictions, validate_truth)"
   ]
  },
  {
   "cell_type": "code",
   "execution_count": 26,
   "metadata": {},
   "outputs": [],
   "source": [
    "predictions = open(\"predictions_Rated.txt\", 'w')\n",
    "for l in open(\"stub_Rated.txt\"):\n",
    "    if l.startswith(\"user_id\"):\n",
    "        \n",
    "      #header\n",
    "        predictions.write(l)\n",
    "        continue\n",
    "    u,i = l.strip().split('-')\n",
    "    predictions.write(u + '-' + i + ',' + str(prediction_(u, i)) + '\\n')\n",
    "#     if u in userBiases and i in itemBiases:\n",
    "#         predictions.write(u + '-' + i + ',' + str(prediction_(u, i)) + '\\n')\n",
    "#     elif i in itemBiases:\n",
    "#         predictions.write(u + '-' + i + ',' + str(itemAverage[i]) + '\\n')\n",
    "#     elif u in userBiases:\n",
    "#         predictions.write(u + '-' + i + ',' + str(userAverage[u]) + '\\n')\n",
    "#     else:\n",
    "#         predictions.write(u + '-' + i + ',' + str(globalAverage) + '\\n')\n",
    "\n",
    "predictions.close()"
   ]
  },
  {
   "cell_type": "code",
   "execution_count": null,
   "metadata": {},
   "outputs": [],
   "source": []
  }
 ],
 "metadata": {
  "kernelspec": {
   "display_name": "Python 3.7.6 64-bit",
   "language": "python",
   "name": "python37664bitc282c26bf4d14ab391e9a3806fefddf8"
  },
  "language_info": {
   "codemirror_mode": {
    "name": "ipython",
    "version": 3
   },
   "file_extension": ".py",
   "mimetype": "text/x-python",
   "name": "python",
   "nbconvert_exporter": "python",
   "pygments_lexer": "ipython3",
   "version": "3.7.6"
  }
 },
 "nbformat": 4,
 "nbformat_minor": 4
}
