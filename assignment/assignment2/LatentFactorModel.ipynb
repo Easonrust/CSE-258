{
 "cells": [
  {
   "cell_type": "code",
   "execution_count": 1,
   "metadata": {},
   "outputs": [],
   "source": [
    "import gzip\n",
    "import csv\n",
    "from collections import defaultdict\n",
    "import scipy\n",
    "import random\n",
    "import scipy.optimize\n",
    "import numpy"
   ]
  },
  {
   "cell_type": "code",
   "execution_count": 2,
   "metadata": {},
   "outputs": [],
   "source": [
    "def readCSV(path):\n",
    "    c = csv.reader(open(path,'rt'))\n",
    "    header = next(c)\n",
    "    for l in c:\n",
    "        d = dict(zip(header,l))\n",
    "        d['rating']=int(d['rating'])\n",
    "        yield d"
   ]
  },
  {
   "cell_type": "code",
   "execution_count": 3,
   "metadata": {},
   "outputs": [],
   "source": [
    "trainset=list(readCSV(\"data/trainSet.csv\"))\n",
    "validset=list(readCSV(\"data/validSet.csv\"))\n",
    "testset=list(readCSV(\"data/testSet.csv\"))"
   ]
  },
  {
   "cell_type": "code",
   "execution_count": 4,
   "metadata": {},
   "outputs": [],
   "source": [
    "labels = [d['rating'] for d in trainset]\n",
    "validate_truth=[d['rating'] for d in validset]\n",
    "test_truth=[d['rating'] for d in testset]"
   ]
  },
  {
   "cell_type": "code",
   "execution_count": 5,
   "metadata": {},
   "outputs": [],
   "source": [
    "reviewsPerUser = defaultdict(list)\n",
    "reviewsPerItem = defaultdict(list)"
   ]
  },
  {
   "cell_type": "code",
   "execution_count": 6,
   "metadata": {},
   "outputs": [],
   "source": [
    "for d in trainset:\n",
    "    user,item = d['user_id'], d['item_id']\n",
    "    reviewsPerUser[user].append(d)\n",
    "    reviewsPerItem[item].append(d)"
   ]
  },
  {
   "cell_type": "code",
   "execution_count": 7,
   "metadata": {},
   "outputs": [
    {
     "data": {
      "text/plain": [
       "4.545234115884549"
      ]
     },
     "execution_count": 7,
     "metadata": {},
     "output_type": "execute_result"
    }
   ],
   "source": [
    "ratingMean = sum([d['rating'] for d in trainset]) / len(trainset)\n",
    "ratingMean"
   ]
  },
  {
   "cell_type": "code",
   "execution_count": 8,
   "metadata": {},
   "outputs": [],
   "source": [
    "N = len(trainset)\n",
    "nUsers = len(reviewsPerUser)\n",
    "nItems = len(reviewsPerItem)\n",
    "users = list(reviewsPerUser.keys())\n",
    "items = list(reviewsPerItem.keys())"
   ]
  },
  {
   "cell_type": "code",
   "execution_count": 9,
   "metadata": {},
   "outputs": [],
   "source": [
    "alpha = ratingMean"
   ]
  },
  {
   "cell_type": "code",
   "execution_count": 10,
   "metadata": {},
   "outputs": [],
   "source": [
    "userBiases = defaultdict(float)\n",
    "itemBiases = defaultdict(float)\n",
    "userGamma = {}\n",
    "itemGamma = {}"
   ]
  },
  {
   "cell_type": "code",
   "execution_count": 11,
   "metadata": {},
   "outputs": [],
   "source": [
    "K = 1\n",
    "global step\n",
    "step=1"
   ]
  },
  {
   "cell_type": "code",
   "execution_count": 12,
   "metadata": {},
   "outputs": [],
   "source": [
    "for u in reviewsPerUser:\n",
    "    userGamma[u] = [random.random() * 0.1 - 0.05 for k in range(K)]\n",
    "for i in reviewsPerItem:\n",
    "    itemGamma[i] = [random.random() * 0.1 - 0.05 for k in range(K)]"
   ]
  },
  {
   "cell_type": "code",
   "execution_count": 13,
   "metadata": {},
   "outputs": [],
   "source": [
    "def inner(x, y):\n",
    "    return sum([a*b for a,b in zip(x,y)])"
   ]
  },
  {
   "cell_type": "code",
   "execution_count": 14,
   "metadata": {},
   "outputs": [],
   "source": [
    "def MSE(predictions, labels):\n",
    "    differences = [(x-y)**2 for x,y in zip(predictions,labels)]\n",
    "    return sum(differences) / len(differences)"
   ]
  },
  {
   "cell_type": "code",
   "execution_count": 15,
   "metadata": {},
   "outputs": [],
   "source": [
    "def prediction(user, item):\n",
    "    return alpha + userBiases[user] + itemBiases[item] + inner(userGamma[user], itemGamma[item])"
   ]
  },
  {
   "cell_type": "code",
   "execution_count": 16,
   "metadata": {},
   "outputs": [],
   "source": [
    "def prediction_(user, item):\n",
    "    if user in userBiases and item in itemBiases:\n",
    "        pred=alpha + userBiases[user] + itemBiases[item] + inner(userGamma[user], itemGamma[item])\n",
    "    elif user in userBiases:\n",
    "        pred=alpha + userBiases[user]\n",
    "    elif item in itemBiases:\n",
    "        pred=alpha + itemBiases[item]\n",
    "    else:\n",
    "        pred=alpha\n",
    "    if pred<1:\n",
    "        return 1\n",
    "    if pred>5:\n",
    "        return 5\n",
    "\n",
    "    return pred"
   ]
  },
  {
   "cell_type": "code",
   "execution_count": 17,
   "metadata": {},
   "outputs": [],
   "source": [
    "def unpack(theta):\n",
    "    global alpha\n",
    "    global userBiases\n",
    "    global itemBiases\n",
    "    global userGamma\n",
    "    global itemGamma\n",
    "    index = 0\n",
    "    alpha = theta[index]\n",
    "    index += 1\n",
    "    userBiases = dict(zip(users, theta[index:index+nUsers]))\n",
    "    index += nUsers\n",
    "    itemBiases = dict(zip(items, theta[index:index+nItems]))\n",
    "    index += nItems\n",
    "    for u in users:\n",
    "        userGamma[u] = theta[index:index+K]\n",
    "        index += K\n",
    "    for i in items:\n",
    "        itemGamma[i] = theta[index:index+K]\n",
    "        index += K"
   ]
  },
  {
   "cell_type": "code",
   "execution_count": 18,
   "metadata": {},
   "outputs": [],
   "source": [
    "def cost(theta, labels, lamb):\n",
    "    global step\n",
    "    unpack(theta)\n",
    "    predictions = [prediction(d['user_id'], d['item_id']) for d in trainset]\n",
    "    validate_predictions=[prediction_(d['user_id'], d['item_id']) for d in validset]\n",
    "    cost = MSE(predictions, labels)\n",
    "    validate_cost=MSE(validate_predictions,validate_truth)\n",
    "    print(\"step = \" + str(step))\n",
    "    print(\"MSE = \" + str(cost))\n",
    "    print(\"validate MSE = \" + str(validate_cost))\n",
    "    step+=1\n",
    "    for u in users:\n",
    "        cost += lamb*userBiases[u]**2\n",
    "        for k in range(K):\n",
    "            cost += lamb*userGamma[u][k]**2\n",
    "    for i in items:\n",
    "        cost += lamb*itemBiases[i]**2\n",
    "        for k in range(K):\n",
    "            cost += lamb*itemGamma[i][k]**2\n",
    "    return cost"
   ]
  },
  {
   "cell_type": "code",
   "execution_count": 19,
   "metadata": {},
   "outputs": [],
   "source": [
    "def derivative(theta, labels, lamb):\n",
    "    unpack(theta)\n",
    "    N = len(trainset)\n",
    "    dalpha = 0\n",
    "    dUserBiases = defaultdict(float)\n",
    "    dItemBiases = defaultdict(float)\n",
    "    dUserGamma = {}\n",
    "    dItemGamma = {}\n",
    "    for u in reviewsPerUser:\n",
    "        dUserGamma[u] = [0.0 for k in range(K)]\n",
    "    for i in reviewsPerItem:\n",
    "        dItemGamma[i] = [0.0 for k in range(K)]\n",
    "    for d in trainset:\n",
    "        u,i = d['user_id'], d['item_id']\n",
    "        pred = prediction(u, i)\n",
    "        diff = pred - d['rating']\n",
    "        dalpha += 2/N*diff\n",
    "        dUserBiases[u] += 2/N*diff\n",
    "        dItemBiases[i] += 2/N*diff\n",
    "        for k in range(K):\n",
    "            dUserGamma[u][k] += 2/N*itemGamma[i][k]*diff\n",
    "            dItemGamma[i][k] += 2/N*userGamma[u][k]*diff\n",
    "    for u in userBiases:\n",
    "        dUserBiases[u] += 2*lamb*userBiases[u]\n",
    "        for k in range(K):\n",
    "            dUserGamma[u][k] += 2*lamb*userGamma[u][k]\n",
    "    for i in itemBiases:\n",
    "        dItemBiases[i] += 2*lamb*itemBiases[i]\n",
    "        for k in range(K):\n",
    "            dItemGamma[i][k] += 2*lamb*itemGamma[i][k]\n",
    "    dtheta = [dalpha] + [dUserBiases[u] for u in users] + [dItemBiases[i] for i in items]\n",
    "    for u in users:\n",
    "        dtheta += dUserGamma[u]\n",
    "    for i in items:\n",
    "        dtheta += dItemGamma[i]\n",
    "    return numpy.array(dtheta)"
   ]
  },
  {
   "cell_type": "code",
   "execution_count": 20,
   "metadata": {},
   "outputs": [],
   "source": [
    "lamb=0.001"
   ]
  },
  {
   "cell_type": "code",
   "execution_count": 21,
   "metadata": {},
   "outputs": [
    {
     "name": "stdout",
     "output_type": "stream",
     "text": [
      "step = 1\n",
      "MSE = 0.5101077837963454\n",
      "validate MSE = 0.5151365790304477\n",
      "step = 2\n",
      "MSE = 0.5039225737184666\n",
      "validate MSE = 0.5103250290589882\n",
      "step = 3\n",
      "MSE = 2.5293446421185757\n",
      "validate MSE = 2.546573720215951\n",
      "step = 4\n",
      "MSE = 0.5046952665500837\n",
      "validate MSE = 0.5113856730683405\n",
      "step = 5\n",
      "MSE = 0.49797979745928944\n",
      "validate MSE = 0.5049870140627108\n",
      "step = 6\n",
      "MSE = 0.48760636395331786\n",
      "validate MSE = 0.5014754936204091\n",
      "step = 7\n",
      "MSE = 0.4802082070757493\n",
      "validate MSE = 0.49755142810159236\n",
      "step = 8\n",
      "MSE = 0.47917718769139106\n",
      "validate MSE = 0.4971522503645473\n",
      "step = 9\n",
      "MSE = 0.47922490901584114\n",
      "validate MSE = 0.49777785167065675\n",
      "step = 10\n",
      "MSE = 0.48016675148552185\n",
      "validate MSE = 0.49842493936545773\n",
      "step = 11\n",
      "MSE = 0.48006920457643265\n",
      "validate MSE = 0.4982977284643863\n",
      "step = 12\n",
      "MSE = 0.4801983587192863\n",
      "validate MSE = 0.49835403021671687\n",
      "step = 13\n",
      "MSE = 0.48041839765002026\n",
      "validate MSE = 0.4984715660031348\n",
      "step = 14\n",
      "MSE = 0.4805555450044409\n",
      "validate MSE = 0.49854745517922755\n",
      "step = 15\n",
      "MSE = 0.4806064263635454\n",
      "validate MSE = 0.4985795216757618\n",
      "step = 16\n",
      "MSE = 0.48060852965859613\n",
      "validate MSE = 0.4985808302315713\n",
      "step = 17\n",
      "MSE = 0.48060627681581175\n",
      "validate MSE = 0.49857935802510583\n",
      "step = 18\n",
      "MSE = 0.48059881598459014\n",
      "validate MSE = 0.4985741467789924\n",
      "step = 19\n",
      "MSE = 0.48060210354000166\n",
      "validate MSE = 0.4985757027835612\n",
      "step = 20\n",
      "MSE = 0.4806003061056488\n",
      "validate MSE = 0.49857482603193654\n",
      "step = 21\n",
      "MSE = 0.48060247190273003\n",
      "validate MSE = 0.4985745760937948\n"
     ]
    },
    {
     "data": {
      "text/plain": [
       "(array([ 4.53767711e+00, -4.06880288e-03,  3.91953983e-03, ...,\n",
       "        -6.18005719e-06,  1.17592197e-06, -1.26700583e-06]),\n",
       " 0.49261649678552755,\n",
       " {'grad': array([ 6.10695436e-06, -7.52157923e-09,  3.42678745e-09, ...,\n",
       "         -1.24092483e-08,  2.64925550e-09, -2.52335181e-09]),\n",
       "  'task': b'CONVERGENCE: NORM_OF_PROJECTED_GRADIENT_<=_PGTOL',\n",
       "  'funcalls': 21,\n",
       "  'nit': 17,\n",
       "  'warnflag': 0})"
      ]
     },
     "execution_count": 21,
     "metadata": {},
     "output_type": "execute_result"
    }
   ],
   "source": [
    "scipy.optimize.fmin_l_bfgs_b(cost, [alpha] + # Initialize alpha\n",
    "                                   [0.0]*(nUsers+nItems) + # Initialize beta\n",
    "                                   [random.random() * 0.1 - 0.05 for k in range(K*(nUsers+nItems))], # Gamma\n",
    "                             derivative, args = (labels, lamb), maxfun=30)"
   ]
  },
  {
   "cell_type": "code",
   "execution_count": 22,
   "metadata": {},
   "outputs": [],
   "source": [
    "predictions = []\n",
    "for d in testset:\n",
    "    user=d['user_id']\n",
    "    item=d['item_id']\n",
    "    predictions.append(prediction_(user, item))"
   ]
  },
  {
   "cell_type": "code",
   "execution_count": 23,
   "metadata": {},
   "outputs": [
    {
     "data": {
      "text/plain": [
       "0.4960154659046572"
      ]
     },
     "execution_count": 23,
     "metadata": {},
     "output_type": "execute_result"
    }
   ],
   "source": [
    "MSE(predictions, test_truth)"
   ]
  },
  {
   "cell_type": "code",
   "execution_count": null,
   "metadata": {},
   "outputs": [],
   "source": []
  }
 ],
 "metadata": {
  "kernelspec": {
   "display_name": "Python 3.7.6 64-bit",
   "language": "python",
   "name": "python37664bitc282c26bf4d14ab391e9a3806fefddf8"
  },
  "language_info": {
   "codemirror_mode": {
    "name": "ipython",
    "version": 3
   },
   "file_extension": ".py",
   "mimetype": "text/x-python",
   "name": "python",
   "nbconvert_exporter": "python",
   "pygments_lexer": "ipython3",
   "version": "3.7.6"
  }
 },
 "nbformat": 4,
 "nbformat_minor": 4
}
