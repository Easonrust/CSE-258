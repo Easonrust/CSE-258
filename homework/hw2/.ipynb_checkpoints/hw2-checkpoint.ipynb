{
 "cells": [
  {
   "cell_type": "markdown",
   "metadata": {
    "id": "KUti8cjTx1SQ"
   },
   "source": [
    "# Homework 2"
   ]
  },
  {
   "cell_type": "markdown",
   "metadata": {
    "id": "rzblVHXox1ST"
   },
   "source": [
    "## Tasks - Similarity Functions:"
   ]
  },
  {
   "cell_type": "markdown",
   "metadata": {
    "id": "gM36pfcAx1SU"
   },
   "source": [
    "1. Which 10 items have the highest Jaccard similarity compared to the first item (i.e., the item from the first review, ‘18471619’)? Report both similarities and item IDs "
   ]
  },
  {
   "cell_type": "code",
   "execution_count": 1,
   "metadata": {
    "id": "pKG7Mv2ox1SU"
   },
   "outputs": [],
   "source": [
    "import gzip\n",
    "import math\n",
    "import numpy as np\n",
    "import random\n",
    "from collections import defaultdict \n",
    "import matplotlib.pyplot as plt"
   ]
  },
  {
   "cell_type": "code",
   "execution_count": 2,
   "metadata": {
    "id": "GDdppGwDx1SV"
   },
   "outputs": [],
   "source": [
    "path=\"data/goodreads_reviews_comics_graphic.json.gz\""
   ]
  },
  {
   "cell_type": "code",
   "execution_count": 3,
   "metadata": {
    "id": "rqppzbJOx1SW"
   },
   "outputs": [],
   "source": [
    "def parseData(path):\n",
    "  for l in gzip.open(path,'rt',encoding=\"utf8\"):\n",
    "    yield eval(l)"
   ]
  },
  {
   "cell_type": "code",
   "execution_count": 4,
   "metadata": {
    "id": "3bNYv0KXx1SW"
   },
   "outputs": [],
   "source": [
    "dataset = list(parseData(path))"
   ]
  },
  {
   "cell_type": "code",
   "execution_count": 5,
   "metadata": {
    "colab": {
     "base_uri": "https://localhost:8080/"
    },
    "id": "AteLx-nHx1SX",
    "outputId": "b1a260f9-8e88-49ed-e162-6ed995ca5cc2"
   },
   "outputs": [
    {
     "data": {
      "text/plain": [
       "{'user_id': 'dc3763cdb9b2cae805882878eebb6a32',\n",
       " 'book_id': '18471619',\n",
       " 'review_id': '66b2ba840f9bd36d6d27f46136fe4772',\n",
       " 'rating': 3,\n",
       " 'review_text': 'Sherlock Holmes and the Vampires of London \\n Release Date: April 2014 \\n Publisher: Darkhorse Comics \\n Story by: Sylvain Cordurie \\n Art by: Laci \\n Colors by: Axel Gonzabo \\n Cover by: Jean Sebastien Rossbach \\n ISDN: 9781616552664 \\n MSRP: $17.99 Hardcover \\n \"Sherlock Holmes died fighting Professor Moriarty in the Reichenbach Falls. \\n At least, that\\'s what the press claims. \\n However, Holmes is alive and well and taking advantage of his presumed death to travel the globe. \\n Unfortunately, Holmes\\'s plans are thwarted when a plague of vampirism haunts Britain. \\n This book collects Sherlock Holmes and the Vampires of London Volumes 1 and 2, originally created by French publisher Soleil.\" - Darkhorse Comics \\n When I received this copy of \"Sherlock Holmes and the Vampires of London\" I was Ecstatic! The cover art was awesome and it was about two of my favorite things, Sherlock Holmes and Vampires. I couldn\\'t wait to dive into this! \\n Unfortunately, that is where my excitement ended. The story takes place a month after Sherlock Holmes supposed death in his battle with Professor Moriarty. Sherlock\\'s plan to stay hidden and out of site are ruined when on a trip with his brother Mycroft, they stumble on the presence of vampires. That is about as much of Sherlock\\'s character that comes through the book. I can\\'t even tell you the story really because nothing and I mean nothing stuck with me after reading it. I never, ever got the sense of Sherlock Holmes anywhere in this graphic novel, nor any real sense of mystery or crime. It was just Sherlock somehow battling vampires that should have had absolutely no trouble snuffing him out in a fight, but somehow always surviving and holding his own against supernatural, super powerful, blazingly fast creatures. \\n The cover art is awesome and it truly made me excited to read this but everything else feel completely flat for me. I tried telling myself that \"it\\'s a graphic novel, it would be hard to translate mystery, details, emotion\" but then I remembered reading DC Comic\\'s \"Identity Crisis\" and realized that was a load of crap. I know it\\'s unfair to compare the two as \"Identity Crisis\" had popular mystery author Brad Meltzer writing it right? Yeah....no. The standard was set that day and there is more than enough talent out there to create a great story in a graphic novel. \\n That being said, it wasn\\'t a horrible story, it just didn\\'t grip me for feel anything like Sherlock Holmes to me. It was easy enough to follow but I felt no sense of tension, stakes or compassion for any of the characters. \\n As far as the vampires go, it\\'s hard to know what to expect anymore as there are so many different versions these days. This was the more classic version which I personally prefer, but again I didn\\'t find anything that portrayed their dominance, calm confidence or sexuality. There was definitely a presence of their physical prowess but somehow that was lost on me as easily as Sherlock was able to defend himself. I know it, wouldn\\'t do to kill of the main character, but this would have a been a great opportunity to build around the experience and beguiling nature of a vampire that had lived so many years of experience. Another chance to showcase Sherlock\\'s intellect in a battle of wits over strength in something more suitable for this sort of story as apposed to trying to make it feel like an action movie. \\n Maybe I expected to much and hoped to have at least a gripping premise or some sort of interesting plot or mystery but I didn\\'t find it here. This may be a must have for serious Sherlock Holmes fans that have to collect everything about him, but if you are looking for a great story inside a graphic novel, I would have to say pass on this one. \\n That artwork is good, cover is great, story is lacking so I am giving it 2.5 out of 5 stars.',\n",
       " 'date_added': 'Thu Dec 05 10:44:25 -0800 2013',\n",
       " 'date_updated': 'Thu Dec 05 10:45:15 -0800 2013',\n",
       " 'read_at': 'Tue Nov 05 00:00:00 -0800 2013',\n",
       " 'started_at': '',\n",
       " 'n_votes': 0,\n",
       " 'n_comments': 0}"
      ]
     },
     "execution_count": 5,
     "metadata": {},
     "output_type": "execute_result"
    }
   ],
   "source": [
    "dataset[0]"
   ]
  },
  {
   "cell_type": "code",
   "execution_count": 6,
   "metadata": {
    "id": "DwF_ZXd8x1SX"
   },
   "outputs": [],
   "source": [
    "usersPerItem=defaultdict(set)\n",
    "itemsPerUser = defaultdict(set)\n",
    "ratingDict = {} "
   ]
  },
  {
   "cell_type": "code",
   "execution_count": 7,
   "metadata": {
    "id": "wCYZ0cEPx1SY"
   },
   "outputs": [],
   "source": [
    "for d in dataset:\n",
    "    user,item = d['user_id'], d['book_id']\n",
    "    usersPerItem[item].add(user)\n",
    "    itemsPerUser[user].add(item)\n",
    "    ratingDict[(user,item)] = d['rating']"
   ]
  },
  {
   "cell_type": "code",
   "execution_count": 8,
   "metadata": {
    "id": "OOqp4-qNx1SZ"
   },
   "outputs": [],
   "source": [
    "userAverages = {}\n",
    "itemAverages = {}\n",
    "\n",
    "for u in itemsPerUser:\n",
    "    rs = [ratingDict[(u,i)] for i in itemsPerUser[u]]\n",
    "    userAverages[u] = sum(rs) / len(rs)\n",
    "    \n",
    "for i in usersPerItem:\n",
    "    rs = [ratingDict[(u,i)] for u in usersPerItem[i]]\n",
    "    itemAverages[i] = sum(rs) / len(rs)"
   ]
  },
  {
   "cell_type": "code",
   "execution_count": 9,
   "metadata": {
    "id": "O8bgVDbpx1SZ"
   },
   "outputs": [],
   "source": [
    "def Jaccard(s1, s2):\n",
    "    numer = len(s1.intersection(s2))\n",
    "    denom = len(s1.union(s2))\n",
    "    if denom == 0:\n",
    "        return 9\n",
    "    return numer / denom"
   ]
  },
  {
   "cell_type": "code",
   "execution_count": 10,
   "metadata": {
    "id": "0u0QG7_Cx1SZ"
   },
   "outputs": [],
   "source": [
    "def mostSimilar(i):\n",
    "    similarities = []\n",
    "    users = usersPerItem[i]\n",
    "    for i2 in usersPerItem: # For all items\n",
    "        if i == i2: continue # other than the query\n",
    "        sim = Jaccard(users, usersPerItem[i2])\n",
    "        similarities.append((sim,i2))\n",
    "    similarities.sort(reverse=True)\n",
    "    return similarities[:10]"
   ]
  },
  {
   "cell_type": "code",
   "execution_count": 11,
   "metadata": {
    "id": "J582etcYx1Sa"
   },
   "outputs": [],
   "source": [
    "query=dataset[0]['book_id']"
   ]
  },
  {
   "cell_type": "code",
   "execution_count": 12,
   "metadata": {
    "colab": {
     "base_uri": "https://localhost:8080/"
    },
    "id": "dwA9dRW3x1Sa",
    "outputId": "04186120-18ec-4dcf-ae7b-3f3df75a125d"
   },
   "outputs": [
    {
     "data": {
      "text/plain": [
       "[(0.16666666666666666, '25334626'),\n",
       " (0.14285714285714285, '25659811'),\n",
       " (0.13793103448275862, '18369278'),\n",
       " (0.13157894736842105, '18430205'),\n",
       " (0.12903225806451613, '20299669'),\n",
       " (0.125, '17995154'),\n",
       " (0.12121212121212122, '23241671'),\n",
       " (0.12121212121212122, '23093378'),\n",
       " (0.12121212121212122, '18853527'),\n",
       " (0.11764705882352941, '26778333')]"
      ]
     },
     "execution_count": 12,
     "metadata": {},
     "output_type": "execute_result"
    }
   ],
   "source": [
    "mostSimilar(query)"
   ]
  },
  {
   "cell_type": "markdown",
   "metadata": {
    "id": "k2Z53Btqx1Sa"
   },
   "source": [
    "Therefore, the similarities and item IDs are : \\\n",
    "[(0.16666666666666666, '25334626'),\n",
    " (0.14285714285714285, '25659811'),\n",
    " (0.13793103448275862, '18369278'),\n",
    " (0.13157894736842105, '18430205'),\n",
    " (0.12903225806451613, '20299669'),\n",
    " (0.125, '17995154'),\n",
    " (0.12121212121212122, '23241671'),\n",
    " (0.12121212121212122, '23093378'),\n",
    " (0.12121212121212122, '18853527'),\n",
    " (0.11764705882352941, '26778333')]"
   ]
  },
  {
   "cell_type": "markdown",
   "metadata": {
    "id": "zTlugzxRx1Sa"
   },
   "source": [
    "2. There are several ways similar-item recommendations could be used to make personalized recommenda- tions for a particular user. For instance we could:"
   ]
  },
  {
   "cell_type": "markdown",
   "metadata": {
    "id": "gZs1TQ-Px1Sa"
   },
   "source": [
    "(a). Choosing the N items most similar to the user’s favorite (i.e., highest rated) item. "
   ]
  },
  {
   "cell_type": "markdown",
   "metadata": {
    "id": "I3LBCeg-x1Sb"
   },
   "source": [
    "(b). Finding the N most similar users, and recommending each of their their favorite (highest rated)\n",
    "items."
   ]
  },
  {
   "cell_type": "markdown",
   "metadata": {
    "id": "WjIuvEL-x1Sb"
   },
   "source": [
    "Implement these two strategies for user ‘dc3763cdb9b2cae805882878eebb6a32’ (i.e., the user from the first review); in both cases use the Jaccard similarity as your measure of item-to-item or user-to-user similarity. In case of ties, always select the alphabetically first user or item."
   ]
  },
  {
   "cell_type": "markdown",
   "metadata": {
    "id": "9ecTNt6ix1Sb"
   },
   "source": [
    "(a). Using the first strategy"
   ]
  },
  {
   "cell_type": "code",
   "execution_count": 13,
   "metadata": {
    "id": "wwzbcR_Hx1Sb"
   },
   "outputs": [],
   "source": [
    "def getFavoriteId(i,dataset):\n",
    "    rating=-1\n",
    "    favoriteId=0\n",
    "    for d in dataset:\n",
    "        if d['user_id']==i:\n",
    "            if(d['rating']>rating):\n",
    "                favoriteId=d['book_id']\n",
    "    return favoriteId"
   ]
  },
  {
   "cell_type": "code",
   "execution_count": 14,
   "metadata": {
    "id": "5wSR-6Pax1Sc"
   },
   "outputs": [],
   "source": [
    "def mostSimilar(i,N):\n",
    "    similarities = []\n",
    "    users = usersPerItem[i]\n",
    "    for i2 in usersPerItem: # For all items\n",
    "        if i == i2: continue # other than the query\n",
    "        sim = Jaccard(users, usersPerItem[i2])\n",
    "        similarities.append((sim,i2))\n",
    "    similarities.sort(reverse=True)\n",
    "    return similarities[:N]"
   ]
  },
  {
   "cell_type": "code",
   "execution_count": 15,
   "metadata": {
    "id": "Ory7Np7dx1Sc"
   },
   "outputs": [],
   "source": [
    "query=getFavoriteId('dc3763cdb9b2cae805882878eebb6a32',dataset)"
   ]
  },
  {
   "cell_type": "code",
   "execution_count": 16,
   "metadata": {
    "id": "3fmeP-Erx1Sc"
   },
   "outputs": [],
   "source": [
    "similarities=mostSimilar(query,10)"
   ]
  },
  {
   "cell_type": "code",
   "execution_count": 17,
   "metadata": {
    "colab": {
     "base_uri": "https://localhost:8080/"
    },
    "id": "Zm8mU6gQx1Sc",
    "outputId": "919a01a7-2f48-488a-ae8d-5395809726d4"
   },
   "outputs": [
    {
     "data": {
      "text/plain": [
       "['25334626',\n",
       " '25659811',\n",
       " '18369278',\n",
       " '18430205',\n",
       " '20299669',\n",
       " '17995154',\n",
       " '23241671',\n",
       " '23093378',\n",
       " '18853527',\n",
       " '26778333']"
      ]
     },
     "execution_count": 17,
     "metadata": {},
     "output_type": "execute_result"
    }
   ],
   "source": [
    "recommending=[s[1] for s in similarities]\n",
    "recommending"
   ]
  },
  {
   "cell_type": "markdown",
   "metadata": {
    "id": "dvcKZujDx1Sc"
   },
   "source": [
    "In the first Strategy, the recommended item IDs are : \\\n",
    "['25334626',\n",
    " '25659811',\n",
    " '18369278',\n",
    " '18430205',\n",
    " '20299669',\n",
    " '17995154',\n",
    " '23241671',\n",
    " '23093378',\n",
    " '18853527',\n",
    " '26778333']"
   ]
  },
  {
   "cell_type": "markdown",
   "metadata": {
    "id": "JIAef9B7x1Sc"
   },
   "source": [
    "(b). Using the second strategy"
   ]
  },
  {
   "cell_type": "code",
   "execution_count": 18,
   "metadata": {
    "id": "9YNsdlpPx1Sd"
   },
   "outputs": [],
   "source": [
    "def mostSimilar(i,N):\n",
    "    similarities = []\n",
    "    items = itemsPerUser[i]\n",
    "    for i2 in itemsPerUser: # For all items\n",
    "        if i == i2: continue # other than the query\n",
    "        sim = Jaccard(items, itemsPerUser[i2])\n",
    "        similarities.append((sim,i2))\n",
    "    similarities.sort(reverse=True)\n",
    "    return similarities[:N]"
   ]
  },
  {
   "cell_type": "code",
   "execution_count": 19,
   "metadata": {
    "id": "upfPFJoRx1Sd"
   },
   "outputs": [],
   "source": [
    "query='dc3763cdb9b2cae805882878eebb6a32'"
   ]
  },
  {
   "cell_type": "code",
   "execution_count": 20,
   "metadata": {
    "id": "zv7KUCf8x1Sd"
   },
   "outputs": [],
   "source": [
    "similarities=mostSimilar(query,10)"
   ]
  },
  {
   "cell_type": "code",
   "execution_count": 21,
   "metadata": {
    "colab": {
     "base_uri": "https://localhost:8080/"
    },
    "id": "qCzTpljyx1Sd",
    "outputId": "2d8c6ac6-153a-415c-c8a6-e1dbe5b71398"
   },
   "outputs": [
    {
     "data": {
      "text/plain": [
       "['18471619',\n",
       " '5805',\n",
       " '17570797',\n",
       " '16235119',\n",
       " '7736086',\n",
       " '138398',\n",
       " '6533687',\n",
       " '4437831',\n",
       " '13280885',\n",
       " '17570208']"
      ]
     },
     "execution_count": 21,
     "metadata": {},
     "output_type": "execute_result"
    }
   ],
   "source": [
    "recommending=[getFavoriteId(s[1],dataset) for s in similarities]\n",
    "recommending"
   ]
  },
  {
   "cell_type": "markdown",
   "metadata": {
    "id": "Xh6NxYVTx1Sd"
   },
   "source": [
    "In the second Strategy, the recommended item IDs are : \\\n",
    "['18471619',\n",
    " '5805',\n",
    " '17570797',\n",
    " '16235119',\n",
    " '7736086',\n",
    " '138398',\n",
    " '6533687',\n",
    " '4437831',\n",
    " '13280885',\n",
    " '17570208']"
   ]
  },
  {
   "cell_type": "markdown",
   "metadata": {
    "id": "pIlKrY_ex1Sd"
   },
   "source": [
    "3. In class we briefly discussed whether the Pearson similarity should be implemented (a) only in terms of shared items (i.e., $U_i ∩ U_j$ ) in the denominator; or (b) in terms of all items each user consumed (i.e., $U_i$ or $U_j$ for each term in the denominator). (See last slide on Pearson similarity). Implement versions of the Pearson similarity based on both definitions, and report the 10 most similar items to the same query item from Question 1 "
   ]
  },
  {
   "cell_type": "markdown",
   "metadata": {
    "id": "At-KnzfZx1Sd"
   },
   "source": [
    "(a) only in terms of shared items in the denominator"
   ]
  },
  {
   "cell_type": "code",
   "execution_count": 22,
   "metadata": {
    "id": "sfka1fE_x1Sd"
   },
   "outputs": [],
   "source": [
    "def Pearson(i1, i2):\n",
    "    # Between two items\n",
    "    iBar1 = itemAverages[i1]\n",
    "    iBar2 = itemAverages[i2]\n",
    "    inter = usersPerItem[i1].intersection(usersPerItem[i2])\n",
    "    numer = 0 \n",
    "    denom1 = 0\n",
    "    denom2 = 0\n",
    "    for u in inter:\n",
    "        numer += (ratingDict[(u,i1)] - iBar1)*(ratingDict[(u,i2)] - iBar2)\n",
    "    for u in inter: \n",
    "        denom1 += (ratingDict[(u,i1)] - iBar1)**2\n",
    "        denom2 += (ratingDict[(u,i2)] - iBar2)**2\n",
    "    denom = math.sqrt(denom1) * math.sqrt(denom2)\n",
    "    if denom == 0: return 0\n",
    "    return numer / denom"
   ]
  },
  {
   "cell_type": "code",
   "execution_count": 23,
   "metadata": {
    "id": "JekLp_9_x1Se"
   },
   "outputs": [],
   "source": [
    "def mostSimilar(i):\n",
    "    similarities = []\n",
    "    users = usersPerItem[i]\n",
    "    for i2 in usersPerItem: # For all items\n",
    "        if i == i2: continue # other than the query\n",
    "        sim = Pearson(i, i2)\n",
    "        similarities.append((sim,i2))\n",
    "    similarities.sort(reverse=True)\n",
    "    return similarities[:10]"
   ]
  },
  {
   "cell_type": "code",
   "execution_count": 24,
   "metadata": {
    "id": "2afZn5Gzx1Se"
   },
   "outputs": [],
   "source": [
    "query=dataset[0]['book_id']"
   ]
  },
  {
   "cell_type": "code",
   "execution_count": 25,
   "metadata": {
    "colab": {
     "base_uri": "https://localhost:8080/"
    },
    "id": "4F61FqOsx1Se",
    "outputId": "b0c352d9-c167-4963-cc1a-a01fdf7e0702"
   },
   "outputs": [
    {
     "data": {
      "text/plain": [
       "[(1.0000000000000002, '993861'),\n",
       " (1.0000000000000002, '7986827'),\n",
       " (1.0000000000000002, '7342071'),\n",
       " (1.0000000000000002, '62953'),\n",
       " (1.0000000000000002, '33585240'),\n",
       " (1.0000000000000002, '3328828'),\n",
       " (1.0000000000000002, '31855855'),\n",
       " (1.0000000000000002, '31224404'),\n",
       " (1.0000000000000002, '30272308'),\n",
       " (1.0000000000000002, '29840108')]"
      ]
     },
     "execution_count": 25,
     "metadata": {},
     "output_type": "execute_result"
    }
   ],
   "source": [
    "mostSimilar(query)"
   ]
  },
  {
   "cell_type": "markdown",
   "metadata": {
    "id": "HCwg-6iax1Se"
   },
   "source": [
    "Therefore, the similarities and item IDs are : \\\n",
    "[(1.0000000000000002, '993861'),\n",
    " (1.0000000000000002, '7986827'),\n",
    " (1.0000000000000002, '7342071'),\n",
    " (1.0000000000000002, '62953'),\n",
    " (1.0000000000000002, '33585240'),\n",
    " (1.0000000000000002, '3328828'),\n",
    " (1.0000000000000002, '31855855'),\n",
    " (1.0000000000000002, '31224404'),\n",
    " (1.0000000000000002, '30272308'),\n",
    " (1.0000000000000002, '29840108')]"
   ]
  },
  {
   "cell_type": "markdown",
   "metadata": {
    "id": "UeP6za2bx1Se"
   },
   "source": [
    "(b) in terms of all items each user consumed in the denominator"
   ]
  },
  {
   "cell_type": "code",
   "execution_count": 26,
   "metadata": {
    "id": "2k7qfhGcx1Se"
   },
   "outputs": [],
   "source": [
    "def Pearson(i1, i2):\n",
    "    # Between two items\n",
    "    iBar1 = itemAverages[i1]\n",
    "    iBar2 = itemAverages[i2]\n",
    "    inter = usersPerItem[i1].intersection(usersPerItem[i2])\n",
    "    numer = 0\n",
    "    denom1 = 0\n",
    "    denom2 = 0\n",
    "    for u in inter:\n",
    "        numer += (ratingDict[(u,i1)] - iBar1)*(ratingDict[(u,i2)] - iBar2)\n",
    "    for u in usersPerItem[i1]:\n",
    "        denom1 += (ratingDict[(u,i1)] - iBar1)**2\n",
    "    for u in usersPerItem[i2]:\n",
    "        denom2 += (ratingDict[(u,i2)] - iBar2)**2\n",
    "    denom = math.sqrt(denom1) * math.sqrt(denom2)\n",
    "    if denom == 0: return 0\n",
    "    return numer / denom"
   ]
  },
  {
   "cell_type": "code",
   "execution_count": 27,
   "metadata": {
    "id": "elj8aimKx1Sf"
   },
   "outputs": [],
   "source": [
    "def mostSimilar(i):\n",
    "    similarities = []\n",
    "    users = usersPerItem[i]\n",
    "    for i2 in usersPerItem: # For all items\n",
    "        if i == i2: continue # other than the query\n",
    "        sim = Pearson(i, i2)\n",
    "        similarities.append((sim,i2))\n",
    "    similarities.sort(reverse=True)\n",
    "    return similarities[:10]"
   ]
  },
  {
   "cell_type": "code",
   "execution_count": 28,
   "metadata": {
    "id": "H_f_hW7hx1Sf"
   },
   "outputs": [],
   "source": [
    "query=dataset[0]['book_id']"
   ]
  },
  {
   "cell_type": "code",
   "execution_count": 29,
   "metadata": {
    "colab": {
     "base_uri": "https://localhost:8080/"
    },
    "id": "d2loERK-x1Sf",
    "outputId": "fc95bb01-5141-44db-c95e-b0fd87e31c6f"
   },
   "outputs": [
    {
     "data": {
      "text/plain": [
       "[(0.31898549007874194, '20300526'),\n",
       " (0.18785865431369264, '13280885'),\n",
       " (0.17896391275176457, '18208501'),\n",
       " (0.16269036695641687, '25430791'),\n",
       " (0.16269036695641687, '21521612'),\n",
       " (0.1555075595594449, '1341758'),\n",
       " (0.1526351566298752, '6314737'),\n",
       " (0.15204888048160353, '4009034'),\n",
       " (0.1494406444160154, '988744'),\n",
       " (0.14632419481281994, '18430205')]"
      ]
     },
     "execution_count": 29,
     "metadata": {},
     "output_type": "execute_result"
    }
   ],
   "source": [
    "mostSimilar(query)"
   ]
  },
  {
   "cell_type": "markdown",
   "metadata": {
    "id": "b7FZsLiXx1Sf"
   },
   "source": [
    "Therefore, the similarities and item IDs are : \\\n",
    "[(0.3189854900787419, '20300526'),\n",
    " (0.1878586543136926, '13280885'),\n",
    " (0.17896391275176454, '18208501'),\n",
    " (0.1626903669564168, '25430791'),\n",
    " (0.1626903669564168, '21521612'),\n",
    " (0.15550755955944487, '1341758'),\n",
    " (0.15263515662987517, '6314737'),\n",
    " (0.15204888048160348, '4009034'),\n",
    " (0.14944064441601537, '988744'),\n",
    " (0.14632419481281994, '18430205')]"
   ]
  },
  {
   "cell_type": "markdown",
   "metadata": {
    "id": "xawd7-iux1Sf"
   },
   "source": [
    "## Tasks - Rating Prediction"
   ]
  },
  {
   "cell_type": "markdown",
   "metadata": {
    "id": "Tre9BYXQx1Sf"
   },
   "source": [
    "4. Implement a rating prediction model based on the similarity function"
   ]
  },
  {
   "cell_type": "code",
   "execution_count": 30,
   "metadata": {
    "id": "2j3etDm2x1Sf"
   },
   "outputs": [],
   "source": [
    "reviewsPerUser = defaultdict(list)\n",
    "reviewsPerItem = defaultdict(list)"
   ]
  },
  {
   "cell_type": "code",
   "execution_count": 31,
   "metadata": {
    "id": "Io-6LehKx1Sf"
   },
   "outputs": [],
   "source": [
    "for d in dataset:\n",
    "    user,item = d['user_id'], d['book_id']\n",
    "    reviewsPerUser[user].append(d)\n",
    "    reviewsPerItem[item].append(d)"
   ]
  },
  {
   "cell_type": "code",
   "execution_count": 32,
   "metadata": {
    "colab": {
     "base_uri": "https://localhost:8080/"
    },
    "id": "rBXDH9Rex1Sf",
    "outputId": "af279655-6db8-4640-b8a6-40e22d73c0d4"
   },
   "outputs": [
    {
     "data": {
      "text/plain": [
       "3.778138356523054"
      ]
     },
     "execution_count": 32,
     "metadata": {},
     "output_type": "execute_result"
    }
   ],
   "source": [
    "ratingMean = sum([d['rating'] for d in dataset]) / len(dataset)\n",
    "ratingMean"
   ]
  },
  {
   "cell_type": "code",
   "execution_count": 33,
   "metadata": {
    "id": "npGoMY5ix1Sg"
   },
   "outputs": [],
   "source": [
    "def predictRating(user,item):\n",
    "    ratings = []\n",
    "    similarities = []\n",
    "    for d in reviewsPerUser[user]:\n",
    "        i2 = d['book_id']\n",
    "        if i2 == item: continue\n",
    "        ratings.append(d['rating'] - itemAverages[i2])\n",
    "        similarities.append(Jaccard(usersPerItem[item],usersPerItem[i2]))\n",
    "    if (sum(similarities) > 0):\n",
    "        weightedRatings = [(x*y) for x,y in zip(ratings,similarities)]\n",
    "        return itemAverages[item] + sum(weightedRatings) / sum(similarities)\n",
    "    else:\n",
    "        # User hasn't rated any similar items\n",
    "        return ratingMean"
   ]
  },
  {
   "cell_type": "code",
   "execution_count": 34,
   "metadata": {
    "id": "0evKP4UdJUN-"
   },
   "outputs": [],
   "source": [
    " def split_data(dataset,size):\n",
    "    random.seed(42)\n",
    "    random.shuffle(dataset)\n",
    "    testset = dataset[:int(size)]\n",
    "    return testset"
   ]
  },
  {
   "cell_type": "code",
   "execution_count": 35,
   "metadata": {
    "id": "G3a4NdR5x1Sg"
   },
   "outputs": [],
   "source": [
    "subset=split_data(dataset,10000)"
   ]
  },
  {
   "cell_type": "code",
   "execution_count": 36,
   "metadata": {
    "id": "NHFNb-Vkx1Sg"
   },
   "outputs": [],
   "source": [
    "rating_estimate=[predictRating(d['user_id'], d['book_id']) for d in subset]"
   ]
  },
  {
   "cell_type": "code",
   "execution_count": 37,
   "metadata": {
    "id": "Sqpm1AOOx1Sg"
   },
   "outputs": [],
   "source": [
    "rating=[d['rating'] for d in subset]"
   ]
  },
  {
   "cell_type": "code",
   "execution_count": 38,
   "metadata": {
    "colab": {
     "base_uri": "https://localhost:8080/"
    },
    "id": "GqdCXyITx1Sg",
    "outputId": "87ce944a-a691-412f-fd49-f8ce33caf1b6"
   },
   "outputs": [
    {
     "data": {
      "text/plain": [
       "0.8151510224503019"
      ]
     },
     "execution_count": 38,
     "metadata": {},
     "output_type": "execute_result"
    }
   ],
   "source": [
    "MSE=(np.square(np.subtract(rating, rating_estimate))).mean()\n",
    "MSE"
   ]
  },
  {
   "cell_type": "markdown",
   "metadata": {
    "id": "kWzMathSx1Sg"
   },
   "source": [
    "6. Design a decay function that outperforms (in terms of the MSE) the trivial function f(tu,j) = 1, documenting any design choices you make. "
   ]
  },
  {
   "cell_type": "code",
   "execution_count": 39,
   "metadata": {
    "colab": {
     "base_uri": "https://localhost:8080/"
    },
    "id": "lvwNpcWIx1Sg",
    "outputId": "b0a64e1e-2590-4291-d098-ac81cb0506fe"
   },
   "outputs": [
    {
     "data": {
      "text/plain": [
       "{'user_id': '2ec611e9b4d47e81fd2c15da6ca950a4',\n",
       " 'book_id': '248786',\n",
       " 'review_id': 'e5f005450bb48a53b1ab466a77aff8b5',\n",
       " 'rating': 0,\n",
       " 'review_text': 'Infinite Crisis',\n",
       " 'date_added': 'Wed Jun 09 22:35:26 -0700 2010',\n",
       " 'date_updated': 'Wed Jun 09 22:35:57 -0700 2010',\n",
       " 'read_at': 'Wed Jun 09 00:00:00 -0700 2010',\n",
       " 'started_at': '',\n",
       " 'n_votes': 0,\n",
       " 'n_comments': 0}"
      ]
     },
     "execution_count": 39,
     "metadata": {},
     "output_type": "execute_result"
    }
   ],
   "source": [
    "dataset[0]"
   ]
  },
  {
   "cell_type": "code",
   "execution_count": 40,
   "metadata": {
    "id": "m5pPrVImx1Sg"
   },
   "outputs": [],
   "source": [
    "import dateutil.parser"
   ]
  },
  {
   "cell_type": "code",
   "execution_count": 41,
   "metadata": {
    "colab": {
     "base_uri": "https://localhost:8080/"
    },
    "id": "9C42j9M1x1Sh",
    "outputId": "a19dd7a1-3b95-453f-9823-e400297b2c1a"
   },
   "outputs": [
    {
     "data": {
      "text/plain": [
       "1276148126.0"
      ]
     },
     "execution_count": 41,
     "metadata": {},
     "output_type": "execute_result"
    }
   ],
   "source": [
    "dateutil.parser.parse(dataset[0]['date_added']).timestamp()"
   ]
  },
  {
   "cell_type": "markdown",
   "metadata": {
    "id": "NGhyib5Xx1Sh"
   },
   "source": [
    "$$\n",
    "r(u,i)=\\bar{R_i}+\\frac{\\sum_{j\\in I_u}(R_{u,j}-\\bar{R_j})\\cdot Sim(i,j) \\cdot f(t_{u,j}) }{\\sum_{j \\in I_u}Sim(i,j)\\cdot f(t_{u,j})}\n",
    "$$"
   ]
  },
  {
   "cell_type": "markdown",
   "metadata": {
    "id": "t2aaKG5bx1Sh"
   },
   "source": [
    "We use the property 'date_added' as the $t_{u,j}$ here, and use the folowing decay function:\n",
    "$$\n",
    "f(t)=e^{-\\lambda t}\n",
    "$$\n",
    " We first use the decay form $f(|t_{u,i}-t_{u,j}|)$"
   ]
  },
  {
   "cell_type": "code",
   "execution_count": 42,
   "metadata": {
    "id": "kGfQkI5tx1Sh"
   },
   "outputs": [],
   "source": [
    "def predictRating(user,item, a):\n",
    "    ratings = []\n",
    "    similarities = []\n",
    "    decay= []\n",
    "    time1=0.0\n",
    "    for d in reviewsPerUser[user]:\n",
    "        i2=d['book_id']\n",
    "        if i2==item:\n",
    "            time1=dateutil.parser.parse(d['date_added']).timestamp()\n",
    "            break\n",
    "    for d in reviewsPerUser[user]:\n",
    "        i2 = d['book_id']\n",
    "        if i2 == item: continue\n",
    "        ratings.append(d['rating'] - itemAverages[i2])\n",
    "        time2=dateutil.parser.parse(d['date_added']).timestamp()\n",
    "        similarities.append(Jaccard(usersPerItem[item],usersPerItem[i2]))\n",
    "        decay.append(math.exp(-a*abs(time1-time2)))\n",
    "    weightedSimilarities=[(y*z) for y,z in zip(similarities, decay)]\n",
    "    if (sum(weightedSimilarities) > 0):\n",
    "        weightedRatings = [(x*y*z) for x,y,z in zip(ratings,similarities, decay)]\n",
    "        return itemAverages[item] + sum(weightedRatings) / sum(weightedSimilarities)\n",
    "    else:\n",
    "        # User hasn't rated any similar items\n",
    "        return ratingMean"
   ]
  },
  {
   "cell_type": "code",
   "execution_count": 43,
   "metadata": {
    "id": "QC8t_-tc-5-L"
   },
   "outputs": [],
   "source": [
    "MSES=[]\n",
    "lambdas=[]"
   ]
  },
  {
   "cell_type": "markdown",
   "metadata": {},
   "source": [
    "We note that the timestamp digit has 10 digits， so we try through $10^{-10}$ ro $10^{-9}$, and plot the result MSE."
   ]
  },
  {
   "cell_type": "code",
   "execution_count": 44,
   "metadata": {
    "colab": {
     "base_uri": "https://localhost:8080/",
     "height": 443
    },
    "id": "Gy8X_c9l91Ay",
    "outputId": "3b41e727-d412-4bcf-fc01-4a1f7af7f4bd"
   },
   "outputs": [
    {
     "name": "stdout",
     "output_type": "stream",
     "text": [
      "0.8151510224503019\n",
      "0.8149892267620957\n",
      "0.8148289362566992\n",
      "0.8146701458860802\n",
      "0.8145128505097188\n",
      "0.8143570448961626\n",
      "0.8142027237244823\n",
      "0.8140498815856307\n",
      "0.8138985129837039\n",
      "0.813748612337113\n"
     ]
    }
   ],
   "source": [
    "for i in range(10):\n",
    "    rating_estimate=[predictRating(d['user_id'], d['book_id'],0.0000000001*i) for d in subset]\n",
    "    lambdas.append(0.0000000001*i)\n",
    "    MSE=(np.square(np.subtract(rating, rating_estimate))).mean()\n",
    "    MSES.append(MSE)\n",
    "    print(MSE)\n"
   ]
  },
  {
   "cell_type": "code",
   "execution_count": 45,
   "metadata": {
    "id": "WFGOIiy045Q2"
   },
   "outputs": [
    {
     "data": {
      "text/plain": [
       "[<matplotlib.lines.Line2D at 0x12c3b5a10>]"
      ]
     },
     "execution_count": 45,
     "metadata": {},
     "output_type": "execute_result"
    },
    {
     "data": {
      "image/png": "[encoded data removed]",
      "text/plain": [
       "<Figure size 432x288 with 1 Axes>"
      ]
     },
     "metadata": {
      "needs_background": "light"
     },
     "output_type": "display_data"
    }
   ],
   "source": [
    "plt.plot(lambdas, MSES, color='black')"
   ]
  },
  {
   "cell_type": "markdown",
   "metadata": {},
   "source": [
    "According to the plot above, we try $10^{-8}$"
   ]
  },
  {
   "cell_type": "code",
   "execution_count": 46,
   "metadata": {},
   "outputs": [
    {
     "data": {
      "text/plain": [
       "0.8053182613556648"
      ]
     },
     "execution_count": 46,
     "metadata": {},
     "output_type": "execute_result"
    }
   ],
   "source": [
    "rating_estimate=[predictRating(d['user_id'], d['book_id'],0.0000000001*100) for d in subset]\n",
    "MSE=(np.square(np.subtract(rating, rating_estimate))).mean()\n",
    "MSE"
   ]
  },
  {
   "cell_type": "markdown",
   "metadata": {},
   "source": [
    "Then we try $10^{-7}$"
   ]
  },
  {
   "cell_type": "code",
   "execution_count": 47,
   "metadata": {},
   "outputs": [
    {
     "data": {
      "text/plain": [
       "0.8223560800048035"
      ]
     },
     "execution_count": 47,
     "metadata": {},
     "output_type": "execute_result"
    }
   ],
   "source": [
    "rating_estimate=[predictRating(d['user_id'], d['book_id'],0.0000000001*1000) for d in subset]\n",
    "MSE=(np.square(np.subtract(rating, rating_estimate))).mean()\n",
    "MSE"
   ]
  },
  {
   "cell_type": "markdown",
   "metadata": {},
   "source": [
    "We noticed that the MSE becomes bigger, so we try $5 \\times 10^{-8}$"
   ]
  },
  {
   "cell_type": "code",
   "execution_count": null,
   "metadata": {},
   "outputs": [],
   "source": [
    "rating_estimate=[predictRating(d['user_id'], d['book_id'],0.0000000001*500) for d in subset]\n",
    "MSE=(np.square(np.subtract(rating, rating_estimate))).mean()\n",
    "MSE"
   ]
  },
  {
   "cell_type": "code",
   "execution_count": null,
   "metadata": {},
   "outputs": [],
   "source": []
  }
 ],
 "metadata": {
  "colab": {
   "collapsed_sections": [],
   "name": "hw2.ipynb",
   "provenance": []
  },
  "kernelspec": {
   "display_name": "Python 3",
   "language": "python",
   "name": "python3"
  },
  "language_info": {
   "codemirror_mode": {
    "name": "ipython",
    "version": 3
   },
   "file_extension": ".py",
   "mimetype": "text/x-python",
   "name": "python",
   "nbconvert_exporter": "python",
   "pygments_lexer": "ipython3",
   "version": "3.7.6"
  }
 },
 "nbformat": 4,
 "nbformat_minor": 1
}
