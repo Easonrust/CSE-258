{
 "cells": [
  {
   "cell_type": "markdown",
   "metadata": {
    "id": "sqqd5WJH7NXC"
   },
   "source": [
    "## Tasks — Regression (week 1):"
   ]
  },
  {
   "cell_type": "markdown",
   "metadata": {
    "id": "a7OnLsx87ku6"
   },
   "source": [
    "First, using the book review data, let’s see whether ratings can be predicted as a function of review length, or by using temporal features associated with a review.\n"
   ]
  },
  {
   "cell_type": "markdown",
   "metadata": {
    "id": "9LVzBzMO7nTi"
   },
   "source": [
    "2. Train a simple predictor that estimates rating from review length, i.e.,\n",
    "$$ star \\ rating \\simeq \\theta_0 + \\theta_1 \\times [review \\ length \\ in \\ characters] $$\n",
    "Report the values $\\theta_0$ and $\\theta_1$, and the Mean Squared Error of your predictor (on the entire dataset)."
   ]
  },
  {
   "cell_type": "code",
   "execution_count": 35,
   "metadata": {
    "id": "wA9LyZzT84Fp"
   },
   "outputs": [],
   "source": [
    "import numpy as np\n",
    "from urllib.request import urlopen\n",
    "import scipy.optimize\n",
    "import random\n",
    "import sklearn\n",
    "from sklearn import linear_model\n",
    "from sklearn.model_selection import train_test_split"
   ]
  },
  {
   "cell_type": "code",
   "execution_count": 36,
   "metadata": {
    "id": "ZDkAJ3MR-ZbZ"
   },
   "outputs": [],
   "source": [
    "def parseData(fname):\n",
    "  for l in open(fname):\n",
    "    yield eval(l)"
   ]
  },
  {
   "cell_type": "code",
   "execution_count": 37,
   "metadata": {
    "id": "ZK_JI9BN-gIF"
   },
   "outputs": [],
   "source": [
    "data = list(parseData(\"data/review/fantasy_10000.json\"))"
   ]
  },
  {
   "cell_type": "code",
   "execution_count": 38,
   "metadata": {
    "colab": {
     "base_uri": "https://localhost:8080/"
    },
    "id": "v_2NISbnSCUv",
    "outputId": "91cb58ea-2261-4591-c288-5333cca8efe3"
   },
   "outputs": [
    {
     "data": {
      "text/plain": [
       "{'user_id': '8842281e1d1347389f2ab93d60773d4d',\n",
       " 'book_id': '5577844',\n",
       " 'review_id': '52c8ac49496c153e4a97161e36b2db55',\n",
       " 'rating': 5,\n",
       " 'review_text': 'A beautiful story. Neil Gaiman is truly a unique storyteller. I did a combo of reading and listening to this story, and Neil is great at reading as well. I got interested in this book after seeing the movie, which I really enjoyed. The book is similar - maybe a bit more poetic - but I think the plot in the movie is a bit improved (not much, but a bit). \\n I imagine this book came about because Neil read the below poem that he includes in the beginning, and then he invented a plot around it. The result is the book reads like a epic poem - it\\'s creative, magical, and really, just right. \\n Go and catch a falling star, \\n Get with child a mandrake root, \\n Tell me where all past years are, \\n Or who cleft the devil\\'s foot, \\n Teach me to hear mermaids singing, \\n Or to keep off envy\\'s stinging, \\n And find \\n What wind \\n Serves to advance an honest mind. \\n If thou be\\'st born to strange sights, \\n Things invisible to see, \\n Ride ten thousand days and nights, \\n Till age snow white hairs on thee, \\n Thou, when thou return\\'st, wilt tell me, \\n All strange wonders that befell thee, \\n And swear, \\n No where \\n Lives a woman true, and fair. \\n If thou find\\'st one, let me know, \\n Such a pilgrimage were sweet; \\n Yet do not, I would not go, \\n Though at next door we might meet; \\n Though she were true, when you met her, \\n And last, till you write your letter, \\n Yet she \\n Will be \\n False, ere I come, to two, or three. \\n And here is my new favorite quote: \"Have been unavoidably detained by the world. Expect us when you see us.\"',\n",
       " 'date_added': 'Wed Sep 24 09:29:29 -0700 2014',\n",
       " 'date_updated': 'Wed Oct 01 00:31:56 -0700 2014',\n",
       " 'read_at': 'Tue Sep 30 00:00:00 -0700 2014',\n",
       " 'started_at': 'Sun Sep 21 00:00:00 -0700 2014',\n",
       " 'n_votes': 5,\n",
       " 'n_comments': 1}"
      ]
     },
     "execution_count": 38,
     "metadata": {},
     "output_type": "execute_result"
    }
   ],
   "source": [
    "data[1]"
   ]
  },
  {
   "cell_type": "code",
   "execution_count": 39,
   "metadata": {
    "id": "unLzLTOlEwuH"
   },
   "outputs": [],
   "source": [
    "def feature(datum):\n",
    "  feat = [1]\n",
    "  feat.append(len(datum['review_text']))\n",
    "  return feat"
   ]
  },
  {
   "cell_type": "code",
   "execution_count": 40,
   "metadata": {
    "id": "FRVMqv21Ezl4"
   },
   "outputs": [],
   "source": [
    "X = np.matrix([feature(d) for d in data])"
   ]
  },
  {
   "cell_type": "code",
   "execution_count": 41,
   "metadata": {
    "id": "gR2FMFZhE2VR"
   },
   "outputs": [],
   "source": [
    "y = np.matrix([d['rating'] for d in data]).T"
   ]
  },
  {
   "cell_type": "code",
   "execution_count": 42,
   "metadata": {
    "colab": {
     "base_uri": "https://localhost:8080/"
    },
    "id": "8zMXpMrTYoEJ",
    "outputId": "72ccfb5a-73a3-4511-8d1c-855f7e757250"
   },
   "outputs": [
    {
     "data": {
      "text/plain": [
       "LinearRegression(fit_intercept=False)"
      ]
     },
     "execution_count": 42,
     "metadata": {},
     "output_type": "execute_result"
    }
   ],
   "source": [
    "model=sklearn.linear_model.LinearRegression(fit_intercept=False)\n",
    "model.fit(X,y)"
   ]
  },
  {
   "cell_type": "code",
   "execution_count": 43,
   "metadata": {
    "colab": {
     "base_uri": "https://localhost:8080/"
    },
    "id": "JAmV88toYvrC",
    "outputId": "7f45e696-472f-444b-c5e6-656b7a35d9f2"
   },
   "outputs": [
    {
     "data": {
      "text/plain": [
       "array([[3.68568136e+00, 6.87371675e-05]])"
      ]
     },
     "execution_count": 43,
     "metadata": {},
     "output_type": "execute_result"
    }
   ],
   "source": [
    "theta=model.coef_\n",
    "theta"
   ]
  },
  {
   "cell_type": "markdown",
   "metadata": {
    "id": "f6WVBP_AYyYn"
   },
   "source": [
    "So $\\theta_0$ is 3.68568136 and $\\theta_1$ is $6.87371675 \\times 10^{-5}$"
   ]
  },
  {
   "cell_type": "code",
   "execution_count": 44,
   "metadata": {
    "id": "1NwaiEaqZ56l"
   },
   "outputs": [],
   "source": [
    "y_estimate=model.predict(X)"
   ]
  },
  {
   "cell_type": "code",
   "execution_count": 45,
   "metadata": {
    "colab": {
     "base_uri": "https://localhost:8080/"
    },
    "id": "xnGAO4IYbboa",
    "outputId": "d3b8f01e-4895-4846-85cf-59dd78a9e095"
   },
   "outputs": [
    {
     "data": {
      "text/plain": [
       "array([[3.82906709],\n",
       "       [3.79023059],\n",
       "       [3.79009311],\n",
       "       ...,\n",
       "       [3.69221139],\n",
       "       [3.68588757],\n",
       "       [3.74424542]])"
      ]
     },
     "execution_count": 45,
     "metadata": {},
     "output_type": "execute_result"
    }
   ],
   "source": [
    "y_estimate"
   ]
  },
  {
   "cell_type": "code",
   "execution_count": 46,
   "metadata": {
    "id": "wKlZDmmRa0Wr"
   },
   "outputs": [],
   "source": [
    "MSE=(np.square(np.subtract(y, y_estimate))).mean()"
   ]
  },
  {
   "cell_type": "code",
   "execution_count": 47,
   "metadata": {
    "colab": {
     "base_uri": "https://localhost:8080/"
    },
    "id": "pHO_0wK_fHvl",
    "outputId": "9c524bba-5375-4f9c-eb8f-bfea7629d038"
   },
   "outputs": [
    {
     "data": {
      "text/plain": [
       "1.5522086622355378"
      ]
     },
     "execution_count": 47,
     "metadata": {},
     "output_type": "execute_result"
    }
   ],
   "source": [
    "MSE"
   ]
  },
  {
   "cell_type": "markdown",
   "metadata": {
    "id": "gNMvOgpgfJvu"
   },
   "source": [
    "So $MSE$ is 1.5522086622355378"
   ]
  },
  {
   "cell_type": "markdown",
   "metadata": {
    "id": "qPR7moxFfUp7"
   },
   "source": [
    "3. Extend your model to include (in addition to the length) features based on the time of the review. \n",
    "Using a one-hot encoding for the weekday and year, write down feature vectors for the first two examples\n"
   ]
  },
  {
   "cell_type": "code",
   "execution_count": 48,
   "metadata": {
    "id": "osCaVDDofikc"
   },
   "outputs": [],
   "source": [
    "import dateutil.parser"
   ]
  },
  {
   "cell_type": "code",
   "execution_count": 49,
   "metadata": {
    "id": "LkUbvBslJlZP"
   },
   "outputs": [],
   "source": [
    "weekday_set=set(dateutil.parser.parse(d['date_added']).weekday() for d in data)"
   ]
  },
  {
   "cell_type": "code",
   "execution_count": 50,
   "metadata": {
    "id": "gB_rQlrPUjup"
   },
   "outputs": [],
   "source": [
    "year_set=set(dateutil.parser.parse(d['date_added']).year for d in data)"
   ]
  },
  {
   "cell_type": "code",
   "execution_count": 51,
   "metadata": {
    "colab": {
     "base_uri": "https://localhost:8080/"
    },
    "id": "zeBnqDS3Urnz",
    "outputId": "cf8e790a-1055-4128-b7cf-0f787033dfb8"
   },
   "outputs": [
    {
     "data": {
      "text/plain": [
       "{0, 1, 2, 3, 4, 5, 6}"
      ]
     },
     "execution_count": 51,
     "metadata": {},
     "output_type": "execute_result"
    }
   ],
   "source": [
    "weekday_set"
   ]
  },
  {
   "cell_type": "code",
   "execution_count": 52,
   "metadata": {
    "colab": {
     "base_uri": "https://localhost:8080/"
    },
    "id": "ifSh5gBCKHfH",
    "outputId": "b83560a1-b05b-40cd-f4bc-668266e86468"
   },
   "outputs": [
    {
     "data": {
      "text/plain": [
       "{2006, 2007, 2008, 2009, 2010, 2011, 2012, 2013, 2014, 2015, 2016, 2017}"
      ]
     },
     "execution_count": 52,
     "metadata": {},
     "output_type": "execute_result"
    }
   ],
   "source": [
    "year_set"
   ]
  },
  {
   "cell_type": "markdown",
   "metadata": {
    "id": "2k2AdG1cU8R_"
   },
   "source": [
    "We can see that there are 7 different weekdays and 12 different years in the data. Then we apply one-hot encoding for weekday and year."
   ]
  },
  {
   "cell_type": "code",
   "execution_count": 53,
   "metadata": {
    "id": "9jygGTolgHpW"
   },
   "outputs": [],
   "source": [
    "def feature(datum):\n",
    "  feat = [1]\n",
    "  feat.append(len(datum['review_text']))\n",
    "  t=dateutil.parser.parse(datum['date_added'])\n",
    "  weekday=t.weekday();\n",
    "  year=t.year;\n",
    "\n",
    "  x1=[0,0,0,0,0,0]\n",
    "  if weekday!=1:\n",
    "    x1[weekday-1]=1\n",
    "  feat.extend(x1)\n",
    "\n",
    "  x2=[0,0,0,0,0,0,0,0,0,0,0]\n",
    "  if year!=2006:\n",
    "    x2[year-2007]=1\n",
    "  feat.extend(x2)\n",
    "\n",
    "  return feat"
   ]
  },
  {
   "cell_type": "code",
   "execution_count": 54,
   "metadata": {
    "id": "KPgPkD2NgfU7"
   },
   "outputs": [],
   "source": [
    "X = np.matrix([feature(d) for d in data])"
   ]
  },
  {
   "cell_type": "code",
   "execution_count": 55,
   "metadata": {
    "colab": {
     "base_uri": "https://localhost:8080/"
    },
    "id": "vpWLrxqwiyat",
    "outputId": "51dd8a0d-5e95-4b96-cbe8-81036d21bca9"
   },
   "outputs": [
    {
     "data": {
      "text/plain": [
       "[matrix([[   1, 2086,    0,    0,    0,    0,    0,    1,    0,    0,\n",
       "             0,    0,    0,    0,    0,    0,    0,    0,    1]]),\n",
       " matrix([[   1, 1521,    0,    1,    0,    0,    0,    0,    0,    0,\n",
       "             0,    0,    0,    0,    0,    1,    0,    0,    0]])]"
      ]
     },
     "execution_count": 55,
     "metadata": {},
     "output_type": "execute_result"
    }
   ],
   "source": [
    "[X[0],X[1]]"
   ]
  },
  {
   "cell_type": "markdown",
   "metadata": {
    "id": "MdqhfqFpjV9G"
   },
   "source": [
    "Therefore feature vectors for the first two examples are [1, 2086, 0, 0, 0, 0, 0, 1, 0, 0, 0, 0, 0, 0, 0, 0, 0, 0, 1] and [1, 1521, 0, 1, 0, 0, 0, 0, 0, 0, 0, 0, 0, 0, 0, 1, 0, 0, 0]]"
   ]
  },
  {
   "cell_type": "markdown",
   "metadata": {
    "id": "E-qfPGPAkn0V"
   },
   "source": [
    "4. Train models that \n",
    "    \n",
    "\n",
    "*   use the weekday and year values directly as features"
   ]
  },
  {
   "cell_type": "code",
   "execution_count": 56,
   "metadata": {
    "id": "pkpmmWblk5KU"
   },
   "outputs": [],
   "source": [
    "def feature(datum):\n",
    "  feat = [1]\n",
    "  feat.append(len(datum['review_text']))\n",
    "  t=dateutil.parser.parse(datum['date_added'])\n",
    "  weekday=t.weekday();\n",
    "  year=t.year;\n",
    "  feat.append(weekday)\n",
    "  feat.append(year)\n",
    "\n",
    "  return feat"
   ]
  },
  {
   "cell_type": "code",
   "execution_count": 57,
   "metadata": {
    "id": "LRlPJWFjlE8P"
   },
   "outputs": [],
   "source": [
    "X = np.matrix([feature(d) for d in data])"
   ]
  },
  {
   "cell_type": "code",
   "execution_count": 58,
   "metadata": {
    "id": "d2SD31-YlNQx"
   },
   "outputs": [],
   "source": [
    "y = np.matrix([d['rating'] for d in data]).T"
   ]
  },
  {
   "cell_type": "code",
   "execution_count": 59,
   "metadata": {
    "colab": {
     "base_uri": "https://localhost:8080/"
    },
    "id": "c3OMzzuYlRvJ",
    "outputId": "d6de9191-286b-407c-bbd7-714357ac6cb1"
   },
   "outputs": [
    {
     "data": {
      "text/plain": [
       "LinearRegression(fit_intercept=False)"
      ]
     },
     "execution_count": 59,
     "metadata": {},
     "output_type": "execute_result"
    }
   ],
   "source": [
    "model=sklearn.linear_model.LinearRegression(fit_intercept=False)\n",
    "model.fit(X,y)"
   ]
  },
  {
   "cell_type": "code",
   "execution_count": 60,
   "metadata": {
    "id": "S-UrY58rlWyR"
   },
   "outputs": [],
   "source": [
    "y_estimate=model.predict(X)"
   ]
  },
  {
   "cell_type": "code",
   "execution_count": 61,
   "metadata": {
    "id": "P5Zcj55AlbE6"
   },
   "outputs": [],
   "source": [
    "MSE=(np.square(np.subtract(y, y_estimate))).mean()"
   ]
  },
  {
   "cell_type": "code",
   "execution_count": 62,
   "metadata": {
    "colab": {
     "base_uri": "https://localhost:8080/"
    },
    "id": "dSr6Ug3LlblI",
    "outputId": "08e6e398-83c6-4501-ba3b-d058cd0f6286"
   },
   "outputs": [
    {
     "data": {
      "text/plain": [
       "1.536774049870523"
      ]
     },
     "execution_count": 62,
     "metadata": {},
     "output_type": "execute_result"
    }
   ],
   "source": [
    "MSE"
   ]
  },
  {
   "cell_type": "markdown",
   "metadata": {
    "id": "Z7_kLNq_lk61"
   },
   "source": [
    "The first model's MSE is 1.536774049870523."
   ]
  },
  {
   "cell_type": "markdown",
   "metadata": {
    "id": "FQ1DlpBDlvwb"
   },
   "source": [
    "\n",
    "\n",
    "*   use the one-hot encoding from Question 3.\n",
    "\n"
   ]
  },
  {
   "cell_type": "code",
   "execution_count": 63,
   "metadata": {
    "id": "-0ajYA-Mlzn8"
   },
   "outputs": [],
   "source": [
    "def feature(datum):\n",
    "  feat = [1]\n",
    "  feat.append(len(datum['review_text']))\n",
    "  t=dateutil.parser.parse(datum['date_added'])\n",
    "  weekday=t.weekday();\n",
    "  year=t.year;\n",
    "\n",
    "  x1=[0,0,0,0,0,0]\n",
    "  if weekday!=1:\n",
    "    x1[weekday-1]=1\n",
    "  feat.extend(x1)\n",
    "\n",
    "  x2=[0,0,0,0,0,0,0,0,0,0,0]\n",
    "  if year!=2006:\n",
    "    x2[year-2007]=1\n",
    "  feat.extend(x2)\n",
    "\n",
    "  return feat"
   ]
  },
  {
   "cell_type": "code",
   "execution_count": 73,
   "metadata": {
    "id": "AoBJFTQ6l6y0"
   },
   "outputs": [],
   "source": [
    "X = np.matrix([feature(d) for d in data])"
   ]
  },
  {
   "cell_type": "code",
   "execution_count": 74,
   "metadata": {
    "id": "VNw01dvDl84V"
   },
   "outputs": [],
   "source": [
    "y = np.matrix([d['rating'] for d in data]).T"
   ]
  },
  {
   "cell_type": "code",
   "execution_count": 75,
   "metadata": {
    "colab": {
     "base_uri": "https://localhost:8080/"
    },
    "id": "XdzO9Waol_R8",
    "outputId": "5e3016d6-09e1-4775-83a2-f200178aac62"
   },
   "outputs": [
    {
     "data": {
      "text/plain": [
       "LinearRegression(fit_intercept=False)"
      ]
     },
     "execution_count": 75,
     "metadata": {},
     "output_type": "execute_result"
    }
   ],
   "source": [
    "model=sklearn.linear_model.LinearRegression(fit_intercept=False)\n",
    "model.fit(X,y)"
   ]
  },
  {
   "cell_type": "code",
   "execution_count": 76,
   "metadata": {
    "id": "_-CcmlvCmBTN"
   },
   "outputs": [],
   "source": [
    "y_estimate=model.predict(X)"
   ]
  },
  {
   "cell_type": "code",
   "execution_count": 77,
   "metadata": {
    "id": "MRzo2zgSmDRT"
   },
   "outputs": [],
   "source": [
    "MSE=(np.square(np.subtract(y, y_estimate))).mean()"
   ]
  },
  {
   "cell_type": "code",
   "execution_count": 78,
   "metadata": {
    "colab": {
     "base_uri": "https://localhost:8080/"
    },
    "id": "rm3F1PvXmE0L",
    "outputId": "24651c01-4cc5-43a7-8cbb-3a519cfd4070"
   },
   "outputs": [
    {
     "data": {
      "text/plain": [
       "1.5130741681414206"
      ]
     },
     "execution_count": 78,
     "metadata": {},
     "output_type": "execute_result"
    }
   ],
   "source": [
    "MSE"
   ]
  },
  {
   "cell_type": "markdown",
   "metadata": {
    "id": "1ObLr_BUnMLg"
   },
   "source": [
    "The second model's MSE is 1.5130741681414206."
   ]
  },
  {
   "cell_type": "markdown",
   "metadata": {
    "id": "oMv7PRjUYyeI"
   },
   "source": [
    "5. Repeat the above question, but this time split the data into a training and test set. You should split the data randomly into 50%/50% train/test fractions. Report the MSE of each model separately on the training and test sets."
   ]
  },
  {
   "cell_type": "markdown",
   "metadata": {
    "id": "xgHLc7Lca9J5"
   },
   "source": [
    "For model that uses the weekday and year values directly as features:"
   ]
  },
  {
   "cell_type": "code",
   "execution_count": 36,
   "metadata": {
    "id": "srqv1HgDaeOL"
   },
   "outputs": [],
   "source": [
    "def feature(datum):\n",
    "  feat = [1]\n",
    "  feat.append(len(datum['review_text']))\n",
    "  t=dateutil.parser.parse(datum['date_added'])\n",
    "  weekday=t.weekday();\n",
    "  year=t.year;\n",
    "  feat.append(weekday)\n",
    "  feat.append(year)\n",
    "\n",
    "  return feat"
   ]
  },
  {
   "cell_type": "code",
   "execution_count": 37,
   "metadata": {
    "id": "bW-3M4ZgaloM"
   },
   "outputs": [],
   "source": [
    "X = np.matrix([feature(d) for d in data])"
   ]
  },
  {
   "cell_type": "code",
   "execution_count": 38,
   "metadata": {
    "id": "7dWAp2x_aq2D"
   },
   "outputs": [],
   "source": [
    "y = np.matrix([d['rating'] for d in data]).T"
   ]
  },
  {
   "cell_type": "code",
   "execution_count": 39,
   "metadata": {
    "id": "JvH4W7IfY2AF"
   },
   "outputs": [],
   "source": [
    "X_train, X_test, y_train, y_test = train_test_split(X, y, test_size=0.5, random_state=1)"
   ]
  },
  {
   "cell_type": "code",
   "execution_count": 40,
   "metadata": {
    "colab": {
     "base_uri": "https://localhost:8080/"
    },
    "id": "XHMfXQz1asNd",
    "outputId": "09158721-f6f3-4ed6-ec3f-dadb0e5e1350"
   },
   "outputs": [
    {
     "data": {
      "text/plain": [
       "LinearRegression(fit_intercept=False)"
      ]
     },
     "execution_count": 40,
     "metadata": {},
     "output_type": "execute_result"
    }
   ],
   "source": [
    "model=sklearn.linear_model.LinearRegression(fit_intercept=False)\n",
    "model.fit(X_train,y_train)"
   ]
  },
  {
   "cell_type": "code",
   "execution_count": 41,
   "metadata": {
    "id": "ilsVDVQzbrTX"
   },
   "outputs": [],
   "source": [
    "y_train_estimate=model.predict(X_train)"
   ]
  },
  {
   "cell_type": "code",
   "execution_count": 42,
   "metadata": {
    "colab": {
     "base_uri": "https://localhost:8080/"
    },
    "id": "fyoP39hbb5yg",
    "outputId": "c20857f0-19f4-4bad-ab44-00daefb725d3"
   },
   "outputs": [
    {
     "data": {
      "text/plain": [
       "1.5390152353610758"
      ]
     },
     "execution_count": 42,
     "metadata": {},
     "output_type": "execute_result"
    }
   ],
   "source": [
    "MSE_train=(np.square(np.subtract(y_train, y_train_estimate))).mean()\n",
    "MSE_train"
   ]
  },
  {
   "cell_type": "markdown",
   "metadata": {
    "id": "nTF7v4hjcbih"
   },
   "source": [
    "So MSE on the train set is 1.5390152353610758."
   ]
  },
  {
   "cell_type": "code",
   "execution_count": 43,
   "metadata": {
    "id": "Rf25tRjCcEvS"
   },
   "outputs": [],
   "source": [
    "y_test_estimate=model.predict(X_test)"
   ]
  },
  {
   "cell_type": "code",
   "execution_count": 44,
   "metadata": {
    "colab": {
     "base_uri": "https://localhost:8080/"
    },
    "id": "ZEuM5ZxtcKvx",
    "outputId": "26b4c03e-c206-43a7-f967-f73c878e9a65"
   },
   "outputs": [
    {
     "data": {
      "text/plain": [
       "1.5350975979293981"
      ]
     },
     "execution_count": 44,
     "metadata": {},
     "output_type": "execute_result"
    }
   ],
   "source": [
    "MSE_test=(np.square(np.subtract(y_test, y_test_estimate))).mean()\n",
    "MSE_test"
   ]
  },
  {
   "cell_type": "markdown",
   "metadata": {
    "id": "Xay6pc3KcswQ"
   },
   "source": [
    "So MSE on the test set is 1.5350975979293981."
   ]
  },
  {
   "cell_type": "markdown",
   "metadata": {
    "id": "AGP48E6zc1ij"
   },
   "source": [
    "For model that uses use the one-hot encoding from Question 3:"
   ]
  },
  {
   "cell_type": "code",
   "execution_count": 45,
   "metadata": {
    "id": "ZhImm-3Kc8KQ"
   },
   "outputs": [],
   "source": [
    "def feature(datum):\n",
    "  feat = [1]\n",
    "  feat.append(len(datum['review_text']))\n",
    "  t=dateutil.parser.parse(datum['date_added'])\n",
    "  weekday=t.weekday();\n",
    "  year=t.year;\n",
    "\n",
    "  x1=[0,0,0,0,0,0]\n",
    "  if weekday!=1:\n",
    "    x1[weekday-1]=1\n",
    "  feat.extend(x1)\n",
    "\n",
    "  x2=[0,0,0,0,0,0,0,0,0,0,0]\n",
    "  if year!=2006:\n",
    "    x2[year-2007]=1\n",
    "  feat.extend(x2)\n",
    "\n",
    "  return feat"
   ]
  },
  {
   "cell_type": "code",
   "execution_count": 46,
   "metadata": {
    "id": "opNzXjrBdEmP"
   },
   "outputs": [],
   "source": [
    "X = np.matrix([feature(d) for d in data])"
   ]
  },
  {
   "cell_type": "code",
   "execution_count": 47,
   "metadata": {
    "id": "dtpaMCsxdHSZ"
   },
   "outputs": [],
   "source": [
    "y = np.matrix([d['rating'] for d in data]).T"
   ]
  },
  {
   "cell_type": "code",
   "execution_count": 48,
   "metadata": {
    "id": "3fWNaZmLdKBA"
   },
   "outputs": [],
   "source": [
    "X_train, X_test, y_train, y_test = train_test_split(X, y, test_size=0.5, random_state=1)"
   ]
  },
  {
   "cell_type": "code",
   "execution_count": 49,
   "metadata": {
    "colab": {
     "base_uri": "https://localhost:8080/"
    },
    "id": "whhuRXQvdMoe",
    "outputId": "de628daf-404d-43bd-df08-1b7cc859609a"
   },
   "outputs": [
    {
     "data": {
      "text/plain": [
       "LinearRegression(fit_intercept=False)"
      ]
     },
     "execution_count": 49,
     "metadata": {},
     "output_type": "execute_result"
    }
   ],
   "source": [
    "model=sklearn.linear_model.LinearRegression(fit_intercept=False)\n",
    "model.fit(X_train,y_train)"
   ]
  },
  {
   "cell_type": "code",
   "execution_count": 50,
   "metadata": {
    "id": "Pp8FQRwxdP9M"
   },
   "outputs": [],
   "source": [
    "y_train_estimate=model.predict(X_train)"
   ]
  },
  {
   "cell_type": "code",
   "execution_count": 51,
   "metadata": {
    "colab": {
     "base_uri": "https://localhost:8080/"
    },
    "id": "1XeO-yISdSsk",
    "outputId": "c59d6bdf-2bcd-4916-aec7-973a04d2e585"
   },
   "outputs": [
    {
     "data": {
      "text/plain": [
       "1.5033759076150912"
      ]
     },
     "execution_count": 51,
     "metadata": {},
     "output_type": "execute_result"
    }
   ],
   "source": [
    "MSE_train=(np.square(np.subtract(y_train, y_train_estimate))).mean()\n",
    "MSE_train"
   ]
  },
  {
   "cell_type": "markdown",
   "metadata": {
    "id": "FxnGegfjdeiy"
   },
   "source": [
    "So MSE on the train set is 1.5033759076150912."
   ]
  },
  {
   "cell_type": "code",
   "execution_count": 52,
   "metadata": {
    "id": "Xb2RxlSCdqZD"
   },
   "outputs": [],
   "source": [
    "y_test_estimate=model.predict(X_test)"
   ]
  },
  {
   "cell_type": "code",
   "execution_count": 53,
   "metadata": {
    "colab": {
     "base_uri": "https://localhost:8080/"
    },
    "id": "CyArSZhddw5x",
    "outputId": "43a928da-fbad-4bb0-818b-31c4fb8e11a4"
   },
   "outputs": [
    {
     "data": {
      "text/plain": [
       "1.5284136349591855"
      ]
     },
     "execution_count": 53,
     "metadata": {},
     "output_type": "execute_result"
    }
   ],
   "source": [
    "MSE_test=(np.square(np.subtract(y_test, y_test_estimate))).mean()\n",
    "MSE_test"
   ]
  },
  {
   "cell_type": "markdown",
   "metadata": {
    "id": "y47tEJN-dzqj"
   },
   "source": [
    "So MSE on the train set is 1.5284136349591855."
   ]
  },
  {
   "cell_type": "markdown",
   "metadata": {
    "id": "fMQZ20aheDOb"
   },
   "source": [
    "6. Show that for a trivial predictor, i.e., $y = θ_0$, the best possible value of $θ_0$ in terms of the Mean Absolute Error is the median (i.e., the average value of the label $y$). Hint: compute the derivative of the model’s MSE and solve for $θ_0$."
   ]
  },
  {
   "cell_type": "markdown",
   "metadata": {
    "id": "mlKtwN1HeTE4"
   },
   "source": [
    "Proof: "
   ]
  },
  {
   "cell_type": "markdown",
   "metadata": {
    "id": "5yNII7I5nS1l"
   },
   "source": [
    "the derivative of the model's MAE(Mean Absolute Error) is:\n",
    "$$\n",
    "\\frac{\\partial \\sum |\\theta_0 - y|}{\\partial \\theta_0}\n",
    "$$\n",
    "To get the best possible value of $\\theta_0$, we need that derivative equals 0. Let $n_1$ be the number of y that is smaller than $\\theta_0$, and Let $n_2$ be the number of y that is larger than $\\theta_0$, then we have:\n",
    "$$\n",
    "\\frac{\\partial |\\theta_0 - y|}{\\partial \\theta_0}=1\n",
    "\\ when \\ y<\\theta_0\n",
    "\\\\\n",
    "\\frac{\\partial |\\theta_0 - y|}{\\partial \\theta_0}=-1\n",
    "\\ when \\ y>\\theta_0\n",
    "\\\\\n",
    "\\frac{\\partial |\\theta_0 - y|}{\\partial \\theta_0}=0\n",
    "\\ when \\ y=\\theta_0\n",
    "$$\n",
    "To make the derivative of the model's MAE be 0, we have:\n",
    "$$\n",
    "n1=n2\n",
    "$$\n",
    "Therefore, the the best possible value of $θ_0$ in terms of the Mean Absolute Error is the median."
   ]
  },
  {
   "cell_type": "markdown",
   "metadata": {
    "id": "SNcJySZSu07J"
   },
   "source": [
    "## Tasks — Classification (week 2):"
   ]
  },
  {
   "cell_type": "markdown",
   "metadata": {
    "id": "GSrIpbLou9Zy"
   },
   "source": [
    "In this question, using the beer review data, we’ll try to predict ratings (positive or negative) based on char- acteristics of beer reviews. Load the 50,000 beer review dataset, and construct a label vector by considering whether a review score is four or above."
   ]
  },
  {
   "cell_type": "markdown",
   "metadata": {
    "id": "qcG3T_j8vH_8"
   },
   "source": [
    "7. Fit a logistic regressor that estimates the binarized score from review length, i.e.,\n",
    "$$\n",
    "p(rating \\ is \\ positive)\\simeq \\sigma(\\theta_0+\\theta_1 \\times [length])\n",
    "$$\n",
    "Using the class weight=’balanced’ option, report the True Positive, True Negative, False Positive, False Negative, and Balanced Error Rates of the predictor.\n",
    "\n"
   ]
  },
  {
   "cell_type": "code",
   "execution_count": 54,
   "metadata": {
    "id": "3qJEPmXSybhl"
   },
   "outputs": [],
   "source": [
    "def parseDataFromURL(fname):\n",
    "  for l in urlopen(fname):\n",
    "    yield eval(l)"
   ]
  },
  {
   "cell_type": "code",
   "execution_count": 55,
   "metadata": {
    "id": "di_iCbsHwHWv"
   },
   "outputs": [],
   "source": [
    "data = list(parseDataFromURL(\"https://cseweb.ucsd.edu/classes/fa21/cse258-b/data/beer_50000.json\"))"
   ]
  },
  {
   "cell_type": "code",
   "execution_count": 56,
   "metadata": {
    "colab": {
     "base_uri": "https://localhost:8080/"
    },
    "id": "zXleTufryChm",
    "outputId": "e18f4692-30b6-4bd9-a8a5-abb9d77fa2f2"
   },
   "outputs": [
    {
     "data": {
      "text/plain": [
       "{'review/appearance': 3.0,\n",
       " 'beer/style': 'English Strong Ale',\n",
       " 'review/palate': 3.0,\n",
       " 'review/taste': 3.0,\n",
       " 'beer/name': 'Red Moon',\n",
       " 'review/timeUnix': 1235915097,\n",
       " 'beer/ABV': 6.2,\n",
       " 'beer/beerId': '48213',\n",
       " 'beer/brewerId': '10325',\n",
       " 'review/timeStruct': {'isdst': 0,\n",
       "  'mday': 1,\n",
       "  'hour': 13,\n",
       "  'min': 44,\n",
       "  'sec': 57,\n",
       "  'mon': 3,\n",
       "  'year': 2009,\n",
       "  'yday': 60,\n",
       "  'wday': 6},\n",
       " 'review/overall': 3.0,\n",
       " 'review/text': 'Dark red color, light beige foam, average.\\tIn the smell malt and caramel, not really light.\\tAgain malt and caramel in the taste, not bad in the end.\\tMaybe a note of honey in teh back, and a light fruitiness.\\tAverage body.\\tIn the aftertaste a light bitterness, with the malt and red fruit.\\tNothing exceptional, but not bad, drinkable beer.',\n",
       " 'user/profileName': 'stcules',\n",
       " 'review/aroma': 2.5}"
      ]
     },
     "execution_count": 56,
     "metadata": {},
     "output_type": "execute_result"
    }
   ],
   "source": [
    "data[1]"
   ]
  },
  {
   "cell_type": "code",
   "execution_count": 57,
   "metadata": {
    "id": "F3nhNviDzJI3"
   },
   "outputs": [],
   "source": [
    "def feature(datum):\n",
    "  feat = [1]\n",
    "  feat.append(len(datum['review/text']))\n",
    "  return feat"
   ]
  },
  {
   "cell_type": "code",
   "execution_count": 58,
   "metadata": {
    "id": "GKbkbJO_zRIy"
   },
   "outputs": [],
   "source": [
    "X = [feature(d) for d in data]"
   ]
  },
  {
   "cell_type": "code",
   "execution_count": 59,
   "metadata": {
    "id": "oibMmnOBzXXu"
   },
   "outputs": [],
   "source": [
    "y=[d['review/overall']>=4 for d in data]"
   ]
  },
  {
   "cell_type": "code",
   "execution_count": 60,
   "metadata": {
    "colab": {
     "base_uri": "https://localhost:8080/"
    },
    "id": "djJcu4Z40Ldj",
    "outputId": "48dffe42-55de-434f-d96c-d07f6ee2ff47"
   },
   "outputs": [
    {
     "data": {
      "text/plain": [
       "LogisticRegression(class_weight='balanced', fit_intercept=False)"
      ]
     },
     "execution_count": 60,
     "metadata": {},
     "output_type": "execute_result"
    }
   ],
   "source": [
    "model = sklearn.linear_model.LogisticRegression(fit_intercept=False, class_weight='balanced')\n",
    "model.fit(X,y)"
   ]
  },
  {
   "cell_type": "code",
   "execution_count": 61,
   "metadata": {
    "colab": {
     "base_uri": "https://localhost:8080/"
    },
    "id": "Jjj-Yg_00YOF",
    "outputId": "4a089614-cd19-4e25-cf1f-74f2b06d7720"
   },
   "outputs": [
    {
     "data": {
      "text/plain": [
       "array([False, False, False, ..., False,  True, False])"
      ]
     },
     "execution_count": 61,
     "metadata": {},
     "output_type": "execute_result"
    }
   ],
   "source": [
    "predictions=model.predict(X)\n",
    "predictions"
   ]
  },
  {
   "cell_type": "code",
   "execution_count": 62,
   "metadata": {
    "colab": {
     "base_uri": "https://localhost:8080/"
    },
    "id": "QxkznoWs0eyb",
    "outputId": "c08376d7-cc82-4c57-8906-bedf52cf56e4"
   },
   "outputs": [
    {
     "data": {
      "text/plain": [
       "14201"
      ]
     },
     "execution_count": 62,
     "metadata": {},
     "output_type": "execute_result"
    }
   ],
   "source": [
    "TP = sum([(p and l) for (p,l) in zip(predictions, y)])\n",
    "TP"
   ]
  },
  {
   "cell_type": "code",
   "execution_count": 63,
   "metadata": {
    "colab": {
     "base_uri": "https://localhost:8080/"
    },
    "id": "94lunK4H0jg3",
    "outputId": "9f38f3fc-3dfd-49f9-cfb7-01dd3732dfd0"
   },
   "outputs": [
    {
     "data": {
      "text/plain": [
       "5885"
      ]
     },
     "execution_count": 63,
     "metadata": {},
     "output_type": "execute_result"
    }
   ],
   "source": [
    "FP = sum([(p and not l) for (p,l) in zip(predictions, y)])\n",
    "FP"
   ]
  },
  {
   "cell_type": "code",
   "execution_count": 64,
   "metadata": {
    "colab": {
     "base_uri": "https://localhost:8080/"
    },
    "id": "I5b8kHWp0mfc",
    "outputId": "86da9ce4-0855-4a08-cd2c-7b770d45e08b"
   },
   "outputs": [
    {
     "data": {
      "text/plain": [
       "10503"
      ]
     },
     "execution_count": 64,
     "metadata": {},
     "output_type": "execute_result"
    }
   ],
   "source": [
    "TN = sum([(not p and not l) for (p,l) in zip(predictions, y)])\n",
    "TN"
   ]
  },
  {
   "cell_type": "code",
   "execution_count": 65,
   "metadata": {
    "colab": {
     "base_uri": "https://localhost:8080/"
    },
    "id": "-KgHGgQU0o0Y",
    "outputId": "dc3e44be-8217-4e86-9b9f-fc081793122d"
   },
   "outputs": [
    {
     "data": {
      "text/plain": [
       "19411"
      ]
     },
     "execution_count": 65,
     "metadata": {},
     "output_type": "execute_result"
    }
   ],
   "source": [
    "FN = sum([(not p and l) for (p,l) in zip(predictions, y)])\n",
    "FN"
   ]
  },
  {
   "cell_type": "code",
   "execution_count": 66,
   "metadata": {
    "colab": {
     "base_uri": "https://localhost:8080/"
    },
    "id": "zlWrCoO01fbb",
    "outputId": "cecace61-a1bf-4e9a-c800-7886fd91fab5"
   },
   "outputs": [
    {
     "data": {
      "text/plain": [
       "0.4224979174104487"
      ]
     },
     "execution_count": 66,
     "metadata": {},
     "output_type": "execute_result"
    }
   ],
   "source": [
    "TPR = TP / (TP + FN)\n",
    "TPR"
   ]
  },
  {
   "cell_type": "code",
   "execution_count": 67,
   "metadata": {
    "colab": {
     "base_uri": "https://localhost:8080/"
    },
    "id": "dMqbSEqH1jI2",
    "outputId": "e7b4fd55-2c54-45e3-816b-d24e45c61410"
   },
   "outputs": [
    {
     "data": {
      "text/plain": [
       "0.6408957773980962"
      ]
     },
     "execution_count": 67,
     "metadata": {},
     "output_type": "execute_result"
    }
   ],
   "source": [
    "TNR = TN / (TN + FP)\n",
    "TNR"
   ]
  },
  {
   "cell_type": "code",
   "execution_count": 68,
   "metadata": {
    "colab": {
     "base_uri": "https://localhost:8080/"
    },
    "id": "Jp2xsgm51zkP",
    "outputId": "b52db638-b3b0-4fa6-824c-ff795a75266a"
   },
   "outputs": [
    {
     "data": {
      "text/plain": [
       "0.35910422260190383"
      ]
     },
     "execution_count": 68,
     "metadata": {},
     "output_type": "execute_result"
    }
   ],
   "source": [
    "FPR = FP / (TN + FP)\n",
    "FPR"
   ]
  },
  {
   "cell_type": "code",
   "execution_count": 69,
   "metadata": {
    "colab": {
     "base_uri": "https://localhost:8080/"
    },
    "id": "L91T-HX02bGE",
    "outputId": "5a6e5405-278e-440a-d634-efc0ed0e36dd"
   },
   "outputs": [
    {
     "data": {
      "text/plain": [
       "0.5775020825895514"
      ]
     },
     "execution_count": 69,
     "metadata": {},
     "output_type": "execute_result"
    }
   ],
   "source": [
    "FNR = FN / (TP + FN)\n",
    "FNR"
   ]
  },
  {
   "cell_type": "code",
   "execution_count": 70,
   "metadata": {
    "colab": {
     "base_uri": "https://localhost:8080/"
    },
    "id": "-c_xkmdQ2uBH",
    "outputId": "cd82ecd6-305a-4b73-c5a9-7391a8d66fa5"
   },
   "outputs": [
    {
     "data": {
      "text/plain": [
       "0.46830315259572763"
      ]
     },
     "execution_count": 70,
     "metadata": {},
     "output_type": "execute_result"
    }
   ],
   "source": [
    "BER = 1/2*(FPR+FNR)\n",
    "BER"
   ]
  },
  {
   "cell_type": "markdown",
   "metadata": {
    "id": "7zuKlbpq2-i7"
   },
   "source": [
    "Therefore True Positive Rate is 0.4224979174104487 \\\\\n",
    "True Negative Rate is 0.6408957773980962 \\\\\n",
    "False Positive Rate is 0.35910422260190383 \\\\\n",
    "False Negative Rate is 0.6834377860714034 \\\\\n",
    "Balanced Error Rate is 0.46830315259572763."
   ]
  },
  {
   "cell_type": "markdown",
   "metadata": {
    "id": "PM7NbY3z3pRX"
   },
   "source": [
    "8. Plot the precision@K of your classifier for K = {1 . . . 10000}"
   ]
  },
  {
   "cell_type": "code",
   "execution_count": 71,
   "metadata": {
    "id": "B5VJBaov371P"
   },
   "outputs": [],
   "source": [
    "import matplotlib.pyplot as plt"
   ]
  },
  {
   "cell_type": "code",
   "execution_count": 72,
   "metadata": {
    "id": "lOIIaFzx5ZYw"
   },
   "outputs": [],
   "source": [
    "scores = model.decision_function(X)"
   ]
  },
  {
   "cell_type": "code",
   "execution_count": 73,
   "metadata": {
    "id": "vPzCdD415tZ1"
   },
   "outputs": [],
   "source": [
    "scores_labels = list(zip(scores, y))"
   ]
  },
  {
   "cell_type": "code",
   "execution_count": 74,
   "metadata": {
    "id": "UJ_-7sFo8Vds"
   },
   "outputs": [],
   "source": [
    "scores_labels.sort(reverse = True)"
   ]
  },
  {
   "cell_type": "code",
   "execution_count": 75,
   "metadata": {
    "id": "ZtsvHUX98Yxd"
   },
   "outputs": [],
   "source": [
    "sorted_labels = [x[1] for x in scores_labels]"
   ]
  },
  {
   "cell_type": "code",
   "execution_count": 76,
   "metadata": {
    "id": "wpM_RZ4h9JyI"
   },
   "outputs": [],
   "source": [
    "K = np.arange(1,10001,1)"
   ]
  },
  {
   "cell_type": "code",
   "execution_count": 77,
   "metadata": {
    "id": "tadwDUXu9grs"
   },
   "outputs": [],
   "source": [
    "precision = [sum(sorted_labels[:k]) / k for k in K]"
   ]
  },
  {
   "cell_type": "code",
   "execution_count": 78,
   "metadata": {
    "colab": {
     "base_uri": "https://localhost:8080/",
     "height": 282
    },
    "id": "HAVTBnT192tz",
    "outputId": "e8597098-9b35-427d-cdf3-2aaa2e1009a3"
   },
   "outputs": [
    {
     "data": {
      "text/plain": [
       "[<matplotlib.lines.Line2D at 0x12f0a4910>]"
      ]
     },
     "execution_count": 78,
     "metadata": {},
     "output_type": "execute_result"
    },
    {
     "data": {
      "image/png": "[encoded data removed]",
      "text/plain": [
       "<Figure size 432x288 with 1 Axes>"
      ]
     },
     "metadata": {
      "needs_background": "light"
     },
     "output_type": "display_data"
    }
   ],
   "source": [
    "plt.plot(K, precision, color='black')"
   ]
  },
  {
   "cell_type": "markdown",
   "metadata": {
    "id": "UyrIaSAkCEbk"
   },
   "source": [
    "9. Our precision@K plot from Question 8 only measures precision with regard to the positive class. For\n",
    "this type of binary classification, we may be equally interested in the classifier’s accuracy for both the\n",
    "positive and negative classes. Recompute confidence scores for your classifier so that the ‘most confi-\n",
    "dent’ predictions include either the most confident positive or the most confident negative predictions. \n",
    "the classifier has the correct label (either ‘positive’ or ‘negative’) among the K most confident entries. Report this precision@K for K ∈ {1, 100, 10000} and include a plot as in Question 8."
   ]
  },
  {
   "cell_type": "code",
   "execution_count": 79,
   "metadata": {
    "id": "bxA7IlERCWnz"
   },
   "outputs": [
    {
     "data": {
      "text/plain": [
       "array([[0.53943312, 0.46056688],\n",
       "       [0.53274483, 0.46725517],\n",
       "       [0.52763255, 0.47236745],\n",
       "       ...,\n",
       "       [0.50598628, 0.49401372],\n",
       "       [0.47583848, 0.52416152],\n",
       "       [0.52295589, 0.47704411]])"
      ]
     },
     "execution_count": 79,
     "metadata": {},
     "output_type": "execute_result"
    }
   ],
   "source": [
    "probas = model.predict_proba(X)\n",
    "probas"
   ]
  },
  {
   "cell_type": "code",
   "execution_count": 80,
   "metadata": {
    "id": "x5l5uuhyCdXS"
   },
   "outputs": [],
   "source": [
    "new_scores=[abs(proba[1]-0.5) for proba in probas]"
   ]
  },
  {
   "cell_type": "code",
   "execution_count": 81,
   "metadata": {},
   "outputs": [],
   "source": [
    "y_estimate=model.predict(X)"
   ]
  },
  {
   "cell_type": "code",
   "execution_count": 82,
   "metadata": {
    "id": "TFtjBpS7C5-I"
   },
   "outputs": [],
   "source": [
    "scores_labels = list(zip(new_scores, y, y_estimate))"
   ]
  },
  {
   "cell_type": "code",
   "execution_count": 83,
   "metadata": {
    "id": "cfzml1msC8jz"
   },
   "outputs": [],
   "source": [
    "scores_labels.sort(key=lambda elem: elem[0], reverse = True)"
   ]
  },
  {
   "cell_type": "code",
   "execution_count": 84,
   "metadata": {
    "id": "TrithZDKDWTl"
   },
   "outputs": [],
   "source": [
    "sorted_labels = [x[1]==x[2] for x in scores_labels]"
   ]
  },
  {
   "cell_type": "code",
   "execution_count": 85,
   "metadata": {
    "id": "o6N0RVXdDYgm"
   },
   "outputs": [],
   "source": [
    "K = np.arange(1,10001,1)"
   ]
  },
  {
   "cell_type": "code",
   "execution_count": 86,
   "metadata": {
    "id": "eiYyop_lDc2o"
   },
   "outputs": [],
   "source": [
    "precision = [sum(sorted_labels[:k]) / k for k in K]"
   ]
  },
  {
   "cell_type": "code",
   "execution_count": 87,
   "metadata": {
    "colab": {
     "base_uri": "https://localhost:8080/",
     "height": 282
    },
    "id": "hRVcHVGJDfnp",
    "outputId": "38a5c342-ab9a-4e92-9972-8d15dcafff47"
   },
   "outputs": [
    {
     "data": {
      "text/plain": [
       "[<matplotlib.lines.Line2D at 0x12f0d1250>]"
      ]
     },
     "execution_count": 87,
     "metadata": {},
     "output_type": "execute_result"
    },
    {
     "data": {
      "image/png": "[encoded data removed]",
      "text/plain": [
       "<Figure size 432x288 with 1 Axes>"
      ]
     },
     "metadata": {
      "needs_background": "light"
     },
     "output_type": "display_data"
    }
   ],
   "source": [
    "plt.plot(K, precision, color='black')"
   ]
  },
  {
   "cell_type": "code",
   "execution_count": 88,
   "metadata": {
    "colab": {
     "base_uri": "https://localhost:8080/"
    },
    "id": "VfFu_MRDDvyA",
    "outputId": "d1b59a09-dc7e-4147-f73e-044582d1a78e"
   },
   "outputs": [
    {
     "data": {
      "text/plain": [
       "1.0"
      ]
     },
     "execution_count": 88,
     "metadata": {},
     "output_type": "execute_result"
    }
   ],
   "source": [
    "precision_1=sum(sorted_labels[:1]) / 1\n",
    "precision_1"
   ]
  },
  {
   "cell_type": "code",
   "execution_count": 89,
   "metadata": {
    "colab": {
     "base_uri": "https://localhost:8080/"
    },
    "id": "wn6r4j6cD56j",
    "outputId": "01f258b1-f8fe-4045-af2a-e9efb2a6e69f"
   },
   "outputs": [
    {
     "data": {
      "text/plain": [
       "0.75"
      ]
     },
     "execution_count": 89,
     "metadata": {},
     "output_type": "execute_result"
    }
   ],
   "source": [
    "precision_100=sum(sorted_labels[:100]) / 100\n",
    "precision_100"
   ]
  },
  {
   "cell_type": "code",
   "execution_count": 90,
   "metadata": {
    "colab": {
     "base_uri": "https://localhost:8080/"
    },
    "id": "Y0u3ZuDdD7HX",
    "outputId": "4ef6748d-25d1-4251-f44e-663fff380291"
   },
   "outputs": [
    {
     "data": {
      "text/plain": [
       "0.6196"
      ]
     },
     "execution_count": 90,
     "metadata": {},
     "output_type": "execute_result"
    }
   ],
   "source": [
    "precision_10000=sum(sorted_labels[:10000]) / 10000\n",
    "precision_10000"
   ]
  },
  {
   "cell_type": "markdown",
   "metadata": {
    "id": "hBJbyEhBEYi2"
   },
   "source": [
    "So precision@1 is 1.0, precision@100 is 0.75, precision@10000 is 0.6196."
   ]
  }
 ],
 "metadata": {
  "colab": {
   "collapsed_sections": [],
   "name": "hw1.ipynb",
   "provenance": []
  },
  "kernelspec": {
   "display_name": "Python 3",
   "language": "python",
   "name": "python3"
  },
  "language_info": {
   "codemirror_mode": {
    "name": "ipython",
    "version": 3
   },
   "file_extension": ".py",
   "mimetype": "text/x-python",
   "name": "python",
   "nbconvert_exporter": "python",
   "pygments_lexer": "ipython3",
   "version": "3.7.6"
  }
 },
 "nbformat": 4,
 "nbformat_minor": 1
}
